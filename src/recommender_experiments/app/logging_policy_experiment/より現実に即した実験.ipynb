{
 "cells": [
  {
   "cell_type": "code",
   "execution_count": 1,
   "metadata": {},
   "outputs": [
    {
     "name": "stderr",
     "output_type": "stream",
     "text": [
      "/Users/masato.morita/Library/Caches/pypoetry/virtualenvs/recommender-experiments-_FVBVT8O-py3.10/lib/python3.10/site-packages/tqdm/auto.py:21: TqdmWarning: IProgress not found. Please update jupyter and ipywidgets. See https://ipywidgets.readthedocs.io/en/stable/user_install.html\n",
      "  from .autonotebook import tqdm as notebook_tqdm\n"
     ]
    }
   ],
   "source": [
    "import random\n",
    "from typing import Callable, Optional, TypedDict\n",
    "import numpy as np\n",
    "from obp.dataset import SyntheticBanditDataset\n",
    "from obp.ope import ReplayMethod, InverseProbabilityWeighting, BaseOffPolicyEstimator\n",
    "import polars as pl"
   ]
  },
  {
   "cell_type": "code",
   "execution_count": 2,
   "metadata": {},
   "outputs": [],
   "source": [
    "class BanditFeedbackDict(TypedDict):\n",
    "    n_rounds: int  # ラウンド数\n",
    "    n_actions: int  # アクション数s\n",
    "    context: np.ndarray  # 文脈 (shape: (n_rounds, dim_context))\n",
    "    action_context: (\n",
    "        np.ndarray\n",
    "    )  # アクション特徴量 (shape: (n_actions, dim_action_features))\n",
    "    action: np.ndarray  # 実際に選択されたアクション (shape: (n_rounds,))\n",
    "    position: Optional[np.ndarray]  # ポジション (shape: (n_rounds,) or None)\n",
    "    reward: np.ndarray  # 報酬 (shape: (n_rounds,))\n",
    "    expected_reward: np.ndarray  # 期待報酬 (shape: (n_rounds, n_actions))\n",
    "    pi_b: np.ndarray  # データ収集方策 P(a|x) (shape: (n_rounds, n_actions))\n",
    "    pscore: np.ndarray  # 傾向スコア (shape: (n_rounds,))"
   ]
  },
  {
   "cell_type": "code",
   "execution_count": 3,
   "metadata": {},
   "outputs": [
    {
     "name": "stdout",
     "output_type": "stream",
     "text": [
      "[[0.   0.02 0.04 0.06 0.08 0.1  0.12 0.14 0.16 0.18 0.2  0.22 0.24 0.26\n",
      "  0.28 0.3  0.32 0.34 0.36 0.38 0.4  0.42 0.44 0.46 0.48 0.5  0.52 0.54\n",
      "  0.56 0.58 0.6  0.62 0.64 0.66 0.68 0.7  0.72 0.74 0.76 0.78 0.8  0.82\n",
      "  0.84 0.86 0.88 0.9  0.92 0.94 0.96 0.98]\n",
      " [0.   0.02 0.04 0.06 0.08 0.1  0.12 0.14 0.16 0.18 0.2  0.22 0.24 0.26\n",
      "  0.28 0.3  0.32 0.34 0.36 0.38 0.4  0.42 0.44 0.46 0.48 0.5  0.52 0.54\n",
      "  0.56 0.58 0.6  0.62 0.64 0.66 0.68 0.7  0.72 0.74 0.76 0.78 0.8  0.82\n",
      "  0.84 0.86 0.88 0.9  0.92 0.94 0.96 0.98]\n",
      " [0.   0.02 0.04 0.06 0.08 0.1  0.12 0.14 0.16 0.18 0.2  0.22 0.24 0.26\n",
      "  0.28 0.3  0.32 0.34 0.36 0.38 0.4  0.42 0.44 0.46 0.48 0.5  0.52 0.54\n",
      "  0.56 0.58 0.6  0.62 0.64 0.66 0.68 0.7  0.72 0.74 0.76 0.78 0.8  0.82\n",
      "  0.84 0.86 0.88 0.9  0.92 0.94 0.96 0.98]]\n"
     ]
    }
   ],
   "source": [
    "# 真の期待報酬関数 E_{p(r|x,a)}[r] を定義する\n",
    "def expected_reward_function(\n",
    "    context: np.ndarray,  # shape: (n_rounds, dim_context)\n",
    "    action_context: np.ndarray,  # shape: (n_actions, dim_action_context)\n",
    "    random_state: int = None,\n",
    ") -> np.ndarray:  # (n_rounds, n_actions, len_list)\n",
    "    \"\"\"(アクションa, 文脈x)の各組み合わせに対する期待報酬 E_{p(r|x,a)}[r] を定義する関数\n",
    "    返り値のshape: (n_rounds, n_actions, len_list)\n",
    "    \"\"\"\n",
    "    n_rounds = context.shape[0]\n",
    "    n_actions = action_context.shape[0]\n",
    "\n",
    "    # 固定の期待報酬を設定 (今回は報酬rをbinary変数とするので0.0~1.0の連続値を設定)\n",
    "    fixed_scores = np.array([i for i in range(n_actions)])\n",
    "    fixed_rewards = fixed_scores / n_actions\n",
    "\n",
    "    # 文脈の数だけ期待報酬を繰り返して返す\n",
    "    return np.tile(fixed_rewards, (n_rounds, 1))\n",
    "\n",
    "\n",
    "# 試しに期待報酬関数を実行してみる\n",
    "n_rounds = 3\n",
    "n_actions = 50\n",
    "dim_context = 300\n",
    "dim_action_context = 300\n",
    "context = np.random.random((n_rounds, dim_context))\n",
    "action_context = np.random.random((n_actions, dim_action_context))\n",
    "print(expected_reward_function(context, action_context))"
   ]
  },
  {
   "cell_type": "code",
   "execution_count": 4,
   "metadata": {},
   "outputs": [
    {
     "name": "stdout",
     "output_type": "stream",
     "text": [
      "[[0. 0. 0. 1. 0. 0. 0. 0. 0. 0.]\n",
      " [0. 1. 0. 0. 0. 0. 0. 0. 0. 0.]\n",
      " [0. 1. 0. 0. 0. 0. 0. 0. 0. 0.]]\n",
      "[[0.91 0.01 0.01 0.01 0.01 0.01 0.01 0.01 0.01 0.01]\n",
      " [0.01 0.01 0.01 0.01 0.01 0.91 0.01 0.01 0.01 0.01]\n",
      " [0.01 0.01 0.01 0.01 0.01 0.91 0.01 0.01 0.01 0.01]]\n"
     ]
    }
   ],
   "source": [
    "# 5種類の推薦方策を定義していく\n",
    "\n",
    "\n",
    "from typing import Literal\n",
    "\n",
    "\n",
    "def pi_1(\n",
    "    context: np.ndarray,\n",
    "    action_context: np.ndarray,\n",
    "    random_state: int = None,\n",
    ") -> np.ndarray:\n",
    "    \"\"\"コンテキストを考慮せず、全てのユーザに対してニュース $a_1$ を確率1で推薦する決定的方策\"\"\"\n",
    "    n_rounds = context.shape[0]\n",
    "    n_actions = action_context.shape[0]\n",
    "\n",
    "    p_scores = np.zeros(n_actions)\n",
    "    p_scores[1] = 1.0\n",
    "    action_dist = np.tile(p_scores, (n_rounds, 1))\n",
    "\n",
    "    assert action_dist.shape == (n_rounds, n_actions)\n",
    "    return action_dist\n",
    "\n",
    "\n",
    "def pi_2(\n",
    "    context: np.ndarray,\n",
    "    action_context: np.ndarray,\n",
    "    random_state: int = None,\n",
    ") -> np.ndarray:\n",
    "    \"\"\"コンテキストを考慮せず、全てのユーザに対してニュース $a_1$ と $a_2$ を確率0.5で推薦する確率的方策\"\"\"\n",
    "    n_rounds = context.shape[0]\n",
    "    n_actions = action_context.shape[0]\n",
    "\n",
    "    p_scores = np.zeros(n_actions)\n",
    "    p_scores[1:3] = 0.5\n",
    "    action_dist = np.tile(p_scores, (n_rounds, 1))\n",
    "\n",
    "    assert action_dist.shape == (n_rounds, n_actions)\n",
    "    return action_dist\n",
    "\n",
    "\n",
    "def pi_3(\n",
    "    context: np.ndarray,\n",
    "    action_context: np.ndarray,\n",
    "    random_state: int = None,\n",
    ") -> np.ndarray:\n",
    "    \"\"\"コンテキスト考慮なしの確率的方策(epsilon-greedy)\n",
    "    - epsilon=0.1とする。\n",
    "    - 活用フェーズでは、必ず最後尾のニュース $a_{|A|-1}$ を選択する。\n",
    "    \"\"\"\n",
    "    n_rounds = context.shape[0]\n",
    "    n_actions = action_context.shape[0]\n",
    "\n",
    "    # 確率的方策: 確率0.1で全てのアクションを一様ランダムに選択し、確率0.9で最後尾のアクションを選択\n",
    "    epsilon = 0.1\n",
    "    action_dist = np.full((n_rounds, n_actions), epsilon / n_actions)\n",
    "    last_action_idx = n_actions - 1\n",
    "    action_dist[np.arange(n_rounds), last_action_idx] = (\n",
    "        1.0 - epsilon + epsilon / n_actions\n",
    "    )\n",
    "\n",
    "    assert action_dist.shape == (n_rounds, n_actions)\n",
    "    return action_dist\n",
    "\n",
    "\n",
    "def pi_4(\n",
    "    context: np.ndarray,\n",
    "    action_context: np.ndarray,\n",
    "    random_state: int = None,\n",
    ") -> np.ndarray:\n",
    "    \"\"\"ユーザとニュースのコンテキストを考慮し、\n",
    "    コンテキストベクトル $x$ とアイテムコンテキストベクトル $e$ の内積が最も大きいニュースを\n",
    "    確率1で推薦する決定的方策\"\"\"\n",
    "    n_rounds = context.shape[0]\n",
    "    n_actions = action_context.shape[0]\n",
    "\n",
    "    # 内積を計算\n",
    "    scores = context @ action_context.T  # shape: (n_rounds, n_actions)\n",
    "\n",
    "    # 各ラウンドで最もスコアが高いアクションのindexを取得\n",
    "    selected_actions = np.argmax(scores, axis=1)  # shape: (n_rounds,)\n",
    "\n",
    "    # 決定的方策: 確率1で最もスコアが高いアクションを選択\n",
    "    action_dist = np.zeros((n_rounds, n_actions))\n",
    "    action_dist[np.arange(n_rounds), selected_actions] = 1.0\n",
    "\n",
    "    return action_dist\n",
    "\n",
    "\n",
    "def pi_5(\n",
    "    context: np.ndarray,\n",
    "    action_context: np.ndarray,\n",
    "    random_state: int = None,\n",
    ") -> np.ndarray:\n",
    "    \"\"\"ユーザとニュースのコンテキストを考慮し、\n",
    "    コンテキストベクトル $x$ とアイテムコンテキストベクトル $e$ の内積が最も大きいニュースを\n",
    "    確率0.7で推薦し、その他のニュースを均等に確率0.1で推薦する確率的方策。\n",
    "    \"\"\"\n",
    "    n_rounds = context.shape[0]\n",
    "    n_actions = action_context.shape[0]\n",
    "\n",
    "    # 内積を計算\n",
    "    scores = context @ action_context.T  # shape: (n_rounds, n_actions)\n",
    "\n",
    "    # 各ラウンドで最もスコアが高いアクションのindexを取得\n",
    "    selected_actions = np.argmax(scores, axis=1)  # shape: (n_rounds,)\n",
    "\n",
    "    # 確率的方策: 確率0.1で全てのアクションを一様ランダムに選択し、確率0.6で最もスコアが高いアクションを決定的に選択\n",
    "    epsilon = 0.1\n",
    "    action_dist = np.full((n_rounds, n_actions), epsilon / n_actions)\n",
    "    action_dist[np.arange(n_rounds), selected_actions] = (\n",
    "        1.0 - epsilon + epsilon / n_actions\n",
    "    )\n",
    "    return action_dist\n",
    "\n",
    "\n",
    "n_rounds = 3\n",
    "dim_context = 300\n",
    "n_actions = 10\n",
    "print(\n",
    "    pi_4(\n",
    "        context=np.random.random((n_rounds, dim_context)),\n",
    "        action_context=np.random.random((n_actions, dim_context)),\n",
    "    )\n",
    ")\n",
    "print(\n",
    "    pi_5(\n",
    "        context=np.random.random((n_rounds, dim_context)),\n",
    "        action_context=np.random.random((n_actions, dim_context)),\n",
    "    )\n",
    ")"
   ]
  },
  {
   "cell_type": "code",
   "execution_count": 5,
   "metadata": {},
   "outputs": [
    {
     "name": "stdout",
     "output_type": "stream",
     "text": [
      "[[[0.025]\n",
      "  [0.025]\n",
      "  [0.025]\n",
      "  [0.925]]\n",
      "\n",
      " [[0.025]\n",
      "  [0.025]\n",
      "  [0.025]\n",
      "  [0.925]]\n",
      "\n",
      " [[0.025]\n",
      "  [0.025]\n",
      "  [0.025]\n",
      "  [0.925]]]\n"
     ]
    }
   ],
   "source": [
    "def policy_wrapper(\n",
    "    base_policy: Callable[[np.ndarray, np.ndarray, int], np.ndarray],\n",
    "    mode: Literal[\"logging_poicy\", \"target_policy_name\"],\n",
    ") -> Callable[[np.ndarray, np.ndarray, int], np.ndarray]:\n",
    "    \"\"\"\n",
    "    方策のラッパー関数。データ収集時と評価時で出力の形状を切り替える。\n",
    "    (logging_policyの場合はshape=(n_rounds, n_actions)、target_policyの場合はshape=(n_rounds,n_actions, 1))\n",
    "    Parameters\n",
    "    - base_policy: ベースとなる方策関数\n",
    "    - mode: 方策のモード。\"logging_policy\"はデータ収集方策、\"target_policy\"は評価方策\n",
    "\n",
    "    Returns\n",
    "    - wrapされた方策関数\n",
    "    \"\"\"\n",
    "\n",
    "    def wrapped_policy(\n",
    "        context: np.ndarray,\n",
    "        action_context: np.ndarray,\n",
    "        random_state: int = None,\n",
    "    ) -> np.ndarray:\n",
    "        action_dist = base_policy(context, action_context, random_state)\n",
    "        if mode == \"logging_policy\":\n",
    "            return action_dist\n",
    "        elif mode == \"target_policy\":\n",
    "            return action_dist[:, :, np.newaxis]\n",
    "\n",
    "    return wrapped_policy\n",
    "\n",
    "\n",
    "target_policy_name = policy_wrapper(pi_5, mode=\"target_policy\")\n",
    "print(\n",
    "    target_policy_name(\n",
    "        context=np.array([[1], [2], [3]]), action_context=np.array([[1], [2], [3], [4]])\n",
    "    )\n",
    ")"
   ]
  },
  {
   "cell_type": "code",
   "execution_count": 6,
   "metadata": {},
   "outputs": [
    {
     "name": "stdout",
     "output_type": "stream",
     "text": [
      "{'simulate_idx': 0, 'ground_truth_policy_value': 0.485292, 'naive_estimate': 0.9233038348082596, 'naive_error': -0.4380118348082596, 'ips_estimate': 0.31668514412416854, 'ips_error': 0.16860685587583146}\n"
     ]
    }
   ],
   "source": [
    "def run_single_ope_simulation(\n",
    "    simulate_idx: int,\n",
    "    n_rounds: int,\n",
    "    n_actions: int,\n",
    "    dim_context: int,\n",
    "    action_context: np.ndarray,\n",
    "    reward_function: Callable[[np.ndarray, np.ndarray, int], np.ndarray],\n",
    "    logging_policy_function: Callable[[np.ndarray, np.ndarray, int], np.ndarray],\n",
    "    target_policy_function: Callable[[np.ndarray, np.ndarray, int], np.ndarray],\n",
    ") -> dict:\n",
    "    # データ収集方策によって集められるはずの、擬似バンディットデータの設定を定義\n",
    "    dataset = SyntheticBanditDataset(\n",
    "        n_actions=n_actions,\n",
    "        dim_context=dim_context,\n",
    "        reward_type=\"binary\",\n",
    "        reward_function=reward_function,\n",
    "        behavior_policy_function=logging_policy_function,\n",
    "        random_state=simulate_idx,\n",
    "        action_context=action_context,\n",
    "    )\n",
    "    # 収集されるバンディットフィードバックデータを生成\n",
    "    bandit_feedback = dataset.obtain_batch_bandit_feedback(n_rounds=n_rounds)\n",
    "\n",
    "    # bandit_feedbackをpl.DataFrameに変換\n",
    "    selected_action_contexts = action_context[bandit_feedback[\"action\"], :]\n",
    "    bandit_feedback_df = pl.DataFrame(\n",
    "        {\n",
    "            \"time_step\": [i for i in range(n_rounds)],\n",
    "            \"context\": bandit_feedback[\"context\"].tolist(),\n",
    "            \"action\": bandit_feedback[\"action\"].tolist(),\n",
    "            \"action_context\": selected_action_contexts.tolist(),\n",
    "            \"reward\": bandit_feedback[\"reward\"].tolist(),\n",
    "            \"p_score\": bandit_feedback[\"pscore\"].tolist(),\n",
    "        }\n",
    "    )\n",
    "\n",
    "    # 評価方策を使って、ログデータ(bandit_feedback)に対する行動選択確率を計算\n",
    "    target_policy_action_dist = target_policy_function(\n",
    "        context=bandit_feedback[\"context\"],\n",
    "        action_context=bandit_feedback[\"action_context\"],\n",
    "    )\n",
    "    # 真の期待報酬E_{p(r|x,a)}[r]を使って、データ収集方策の代わりに評価方策を動かした場合の性能を計算\n",
    "    ground_truth_policy_value = dataset.calc_ground_truth_policy_value(\n",
    "        expected_reward=bandit_feedback[\"expected_reward\"],\n",
    "        action_dist=target_policy_action_dist,\n",
    "    )\n",
    "\n",
    "    # OPE推定量を準備(naive推定量とIPS推定量)\n",
    "    naive_estimator = ReplayMethod()\n",
    "    ips_estimator = InverseProbabilityWeighting()\n",
    "\n",
    "    # それぞれのOPE推定量を使って、データ収集方策の代わりに評価方策を動かした場合の価値を推定\n",
    "    estimated_policy_value_by_naive = naive_estimator.estimate_policy_value(\n",
    "        reward=bandit_feedback[\"reward\"],\n",
    "        action=bandit_feedback[\"action\"],\n",
    "        action_dist=target_policy_action_dist,\n",
    "    )\n",
    "    estimated_policy_value_by_ips = ips_estimator.estimate_policy_value(\n",
    "        action=bandit_feedback[\"action\"],\n",
    "        reward=bandit_feedback[\"reward\"],\n",
    "        action_dist=target_policy_action_dist,\n",
    "        pscore=bandit_feedback[\"pscore\"],\n",
    "    )\n",
    "\n",
    "    return {\n",
    "        \"simulate_idx\": simulate_idx,\n",
    "        \"ground_truth_policy_value\": ground_truth_policy_value,\n",
    "        \"naive_estimate\": estimated_policy_value_by_naive,\n",
    "        \"naive_error\": ground_truth_policy_value - estimated_policy_value_by_naive,\n",
    "        \"ips_estimate\": estimated_policy_value_by_ips,\n",
    "        \"ips_error\": ground_truth_policy_value - estimated_policy_value_by_ips,\n",
    "    }\n",
    "\n",
    "\n",
    "# シミュレーションの設定\n",
    "simulate_idx = 0\n",
    "n_rounds = 20000\n",
    "n_actions = 50\n",
    "dim_context = 300\n",
    "action_context = np.random.random((n_actions, dim_context))\n",
    "reward_function = expected_reward_function\n",
    "logging_policy_function = policy_wrapper(pi_3, mode=\"logging_policy\")\n",
    "target_policy_function = policy_wrapper(pi_4, mode=\"target_policy\")\n",
    "\n",
    "# シミュレーションを実行\n",
    "result_dict = run_single_ope_simulation(\n",
    "    simulate_idx=simulate_idx,\n",
    "    n_rounds=n_rounds,\n",
    "    n_actions=n_actions,\n",
    "    dim_context=dim_context,\n",
    "    action_context=action_context,\n",
    "    reward_function=reward_function,\n",
    "    logging_policy_function=logging_policy_function,\n",
    "    target_policy_function=target_policy_function,\n",
    ")\n",
    "print(result_dict)"
   ]
  },
  {
   "cell_type": "code",
   "execution_count": 7,
   "metadata": {},
   "outputs": [
    {
     "name": "stdout",
     "output_type": "stream",
     "text": [
      "shape: (95, 7)\n",
      "┌───────────────┬──────────┬───────────────┬──────────────┬─────────────┬──────────────┬───────────┐\n",
      "│ logging_polic ┆ n_rounds ┆ target_policy ┆ naive_estima ┆ naive_error ┆ ips_estimate ┆ ips_error │\n",
      "│ y_name        ┆ ---      ┆ _true_value   ┆ te           ┆ ---         ┆ ---          ┆ ---       │\n",
      "│ ---           ┆ i64      ┆ ---           ┆ ---          ┆ f64         ┆ f64          ┆ f64       │\n",
      "│ str           ┆          ┆ f64           ┆ f64          ┆             ┆              ┆           │\n",
      "╞═══════════════╪══════════╪═══════════════╪══════════════╪═════════════╪══════════════╪═══════════╡\n",
      "│ pi_1          ┆ 1000     ┆ 0.5072        ┆ 0.0          ┆ 0.5072      ┆ 0.0          ┆ 0.5072    │\n",
      "│ pi_1          ┆ 2000     ┆ 0.50286       ┆ 0.0          ┆ 0.50286     ┆ 0.0          ┆ 0.50286   │\n",
      "│ pi_1          ┆ 3000     ┆ 0.505233      ┆ 0.0          ┆ 0.505233    ┆ 0.0          ┆ 0.505233  │\n",
      "│ pi_1          ┆ 4000     ┆ 0.501545      ┆ 0.0          ┆ 0.501545    ┆ 0.0          ┆ 0.501545  │\n",
      "│ pi_1          ┆ 5000     ┆ 0.50148       ┆ 0.019231     ┆ 0.482249    ┆ 0.0002       ┆ 0.50128   │\n",
      "│ …             ┆ …        ┆ …             ┆ …            ┆ …           ┆ …            ┆ …         │\n",
      "│ pi_5          ┆ 15000    ┆ 0.499248      ┆ 0.466667     ┆ 0.032581    ┆ 0.7          ┆ -0.200752 │\n",
      "│ pi_5          ┆ 16000    ┆ 0.498633      ┆ 0.446809     ┆ 0.051824    ┆ 0.65625      ┆ -0.157617 │\n",
      "│ pi_5          ┆ 17000    ┆ 0.499424      ┆ 0.4375       ┆ 0.061924    ┆ 0.617647     ┆ -0.118224 │\n",
      "│ pi_5          ┆ 18000    ┆ 0.49843       ┆ 0.530612     ┆ -0.032182   ┆ 0.722222     ┆ -0.223792 │\n",
      "│ pi_5          ┆ 19000    ┆ 0.497749      ┆ 0.471698     ┆ 0.026051    ┆ 0.657895     ┆ -0.160145 │\n",
      "└───────────────┴──────────┴───────────────┴──────────────┴─────────────┴──────────────┴───────────┘\n"
     ]
    }
   ],
   "source": [
    "from pandera.polars import DataFrameSchema\n",
    "from pandera.typing.polars import DataFrame\n",
    "\n",
    "\n",
    "class SimulationResult(DataFrameSchema):\n",
    "    logging_policy_name: str\n",
    "    n_rounds: int\n",
    "    target_policy_true_value: float\n",
    "    naive_estimate: float\n",
    "    naive_error: float\n",
    "    ips_estimate: float\n",
    "    ips_error: float\n",
    "\n",
    "\n",
    "# 5つの推薦方策をデータ収集方策として、ある一つの評価方策に対してOPEを実行する\n",
    "def pi_6(\n",
    "    context: np.ndarray,\n",
    "    action_context: np.ndarray,\n",
    "    random_state: int = None,\n",
    ") -> np.ndarray:\n",
    "    \"\"\"ユーザとニュースのコンテキストを考慮し、\n",
    "    コンテキストベクトル $x$ とアイテムコンテキストベクトル $e$ の内積が最も小さいニュースを\n",
    "    確率1で推薦する決定的方策 (pi_4とは逆の方策)\n",
    "    \"\"\"\n",
    "    n_rounds = context.shape[0]\n",
    "    n_actions = action_context.shape[0]\n",
    "\n",
    "    # 内積を計算\n",
    "    scores = context @ action_context.T  # shape: (n_rounds, n_actions)\n",
    "\n",
    "    # 各ラウンドで最もスコアが高いアクションのindexを取得\n",
    "    selected_actions = np.argmin(scores, axis=1)  # shape: (n_rounds,)\n",
    "\n",
    "    # 決定的方策: 確率1で最もスコアが高いアクションを選択\n",
    "    action_dist = np.zeros((n_rounds, n_actions))\n",
    "    action_dist[np.arange(n_rounds), selected_actions] = 1.0\n",
    "\n",
    "    return action_dist\n",
    "\n",
    "\n",
    "# シミュレーションの設定\n",
    "def run_multiple_simulations(\n",
    "    logging_policy_map: dict[str, Callable[[np.ndarray, np.ndarray, int], np.ndarray]],\n",
    "    target_policy: Callable[[np.ndarray, np.ndarray, int], np.ndarray],\n",
    "    n_rounds_list: list[int] = [50, 100, 200, 300, 400, 500, 1000, 10000],\n",
    "    n_actions: int = 50,\n",
    "    dim_context: int = 300,\n",
    "    action_context: np.ndarray = np.random.random((n_actions, dim_context)),\n",
    ") -> DataFrame[SimulationResult]:\n",
    "\n",
    "    results = []\n",
    "    for logging_policy_name in logging_policy_map.keys():\n",
    "        for n_rounds in n_rounds_list:\n",
    "            result_dict = run_single_ope_simulation(\n",
    "                simulate_idx=0,\n",
    "                n_rounds=n_rounds,\n",
    "                n_actions=n_actions,\n",
    "                dim_context=dim_context,\n",
    "                action_context=action_context,\n",
    "                reward_function=expected_reward_function,\n",
    "                logging_policy_function=policy_wrapper(\n",
    "                    logging_policy_map[logging_policy_name], mode=\"logging_policy\"\n",
    "                ),\n",
    "                target_policy_function=policy_wrapper(\n",
    "                    target_policy, mode=\"target_policy\"\n",
    "                ),\n",
    "            )\n",
    "            results.append(\n",
    "                {\n",
    "                    \"logging_policy_name\": logging_policy_name,\n",
    "                    \"n_rounds\": n_rounds,\n",
    "                    \"target_policy_true_value\": result_dict[\n",
    "                        \"ground_truth_policy_value\"\n",
    "                    ],\n",
    "                    \"naive_estimate\": result_dict[\"naive_estimate\"],\n",
    "                    \"naive_error\": result_dict[\"naive_error\"],\n",
    "                    \"ips_estimate\": result_dict[\"ips_estimate\"],\n",
    "                    \"ips_error\": result_dict[\"ips_error\"],\n",
    "                }\n",
    "            )\n",
    "    return pl.DataFrame(results)\n",
    "\n",
    "\n",
    "policy_map = {\n",
    "    \"pi_1\": pi_1,\n",
    "    \"pi_2\": pi_2,\n",
    "    \"pi_3\": pi_3,\n",
    "    \"pi_4\": pi_4,\n",
    "    \"pi_5\": pi_5,\n",
    "}\n",
    "result_df = run_multiple_simulations(\n",
    "    policy_map,\n",
    "    pi_6,\n",
    "    n_rounds_list=list(range(1000, 20000, 1000)),\n",
    ")\n",
    "print(result_df)"
   ]
  },
  {
   "cell_type": "code",
   "execution_count": 8,
   "metadata": {},
   "outputs": [
    {
     "data": {
      "text/html": [
       "<div><style>\n",
       ".dataframe > thead > tr,\n",
       ".dataframe > tbody > tr {\n",
       "  text-align: right;\n",
       "  white-space: pre-wrap;\n",
       "}\n",
       "</style>\n",
       "<small>shape: (95, 7)</small><table border=\"1\" class=\"dataframe\"><thead><tr><th>logging_policy_name</th><th>n_rounds</th><th>target_policy_true_value</th><th>naive_estimate</th><th>naive_error</th><th>ips_estimate</th><th>ips_error</th></tr><tr><td>str</td><td>i64</td><td>f64</td><td>f64</td><td>f64</td><td>f64</td><td>f64</td></tr></thead><tbody><tr><td>&quot;pi_1&quot;</td><td>1000</td><td>0.5072</td><td>0.0</td><td>0.5072</td><td>0.0</td><td>0.5072</td></tr><tr><td>&quot;pi_1&quot;</td><td>2000</td><td>0.50286</td><td>0.0</td><td>0.5029</td><td>0.0</td><td>0.5029</td></tr><tr><td>&quot;pi_1&quot;</td><td>3000</td><td>0.505233</td><td>0.0</td><td>0.5052</td><td>0.0</td><td>0.5052</td></tr><tr><td>&quot;pi_1&quot;</td><td>4000</td><td>0.501545</td><td>0.0</td><td>0.5015</td><td>0.0</td><td>0.5015</td></tr><tr><td>&quot;pi_1&quot;</td><td>5000</td><td>0.50148</td><td>0.0192</td><td>0.4822</td><td>0.0002</td><td>0.5013</td></tr><tr><td>&hellip;</td><td>&hellip;</td><td>&hellip;</td><td>&hellip;</td><td>&hellip;</td><td>&hellip;</td><td>&hellip;</td></tr><tr><td>&quot;pi_5&quot;</td><td>15000</td><td>0.499248</td><td>0.4667</td><td>0.0326</td><td>0.7</td><td>-0.2008</td></tr><tr><td>&quot;pi_5&quot;</td><td>16000</td><td>0.498633</td><td>0.4468</td><td>0.0518</td><td>0.6563</td><td>-0.1576</td></tr><tr><td>&quot;pi_5&quot;</td><td>17000</td><td>0.499424</td><td>0.4375</td><td>0.0619</td><td>0.6176</td><td>-0.1182</td></tr><tr><td>&quot;pi_5&quot;</td><td>18000</td><td>0.49843</td><td>0.5306</td><td>-0.0322</td><td>0.7222</td><td>-0.2238</td></tr><tr><td>&quot;pi_5&quot;</td><td>19000</td><td>0.497749</td><td>0.4717</td><td>0.0261</td><td>0.6579</td><td>-0.1601</td></tr></tbody></table></div>"
      ],
      "text/plain": [
       "shape: (95, 7)\n",
       "┌───────────────┬──────────┬───────────────┬──────────────┬─────────────┬──────────────┬───────────┐\n",
       "│ logging_polic ┆ n_rounds ┆ target_policy ┆ naive_estima ┆ naive_error ┆ ips_estimate ┆ ips_error │\n",
       "│ y_name        ┆ ---      ┆ _true_value   ┆ te           ┆ ---         ┆ ---          ┆ ---       │\n",
       "│ ---           ┆ i64      ┆ ---           ┆ ---          ┆ f64         ┆ f64          ┆ f64       │\n",
       "│ str           ┆          ┆ f64           ┆ f64          ┆             ┆              ┆           │\n",
       "╞═══════════════╪══════════╪═══════════════╪══════════════╪═════════════╪══════════════╪═══════════╡\n",
       "│ pi_1          ┆ 1000     ┆ 0.5072        ┆ 0.0          ┆ 0.5072      ┆ 0.0          ┆ 0.5072    │\n",
       "│ pi_1          ┆ 2000     ┆ 0.50286       ┆ 0.0          ┆ 0.5029      ┆ 0.0          ┆ 0.5029    │\n",
       "│ pi_1          ┆ 3000     ┆ 0.505233      ┆ 0.0          ┆ 0.5052      ┆ 0.0          ┆ 0.5052    │\n",
       "│ pi_1          ┆ 4000     ┆ 0.501545      ┆ 0.0          ┆ 0.5015      ┆ 0.0          ┆ 0.5015    │\n",
       "│ pi_1          ┆ 5000     ┆ 0.50148       ┆ 0.0192       ┆ 0.4822      ┆ 0.0002       ┆ 0.5013    │\n",
       "│ …             ┆ …        ┆ …             ┆ …            ┆ …           ┆ …            ┆ …         │\n",
       "│ pi_5          ┆ 15000    ┆ 0.499248      ┆ 0.4667       ┆ 0.0326      ┆ 0.7          ┆ -0.2008   │\n",
       "│ pi_5          ┆ 16000    ┆ 0.498633      ┆ 0.4468       ┆ 0.0518      ┆ 0.6563       ┆ -0.1576   │\n",
       "│ pi_5          ┆ 17000    ┆ 0.499424      ┆ 0.4375       ┆ 0.0619      ┆ 0.6176       ┆ -0.1182   │\n",
       "│ pi_5          ┆ 18000    ┆ 0.49843       ┆ 0.5306       ┆ -0.0322     ┆ 0.7222       ┆ -0.2238   │\n",
       "│ pi_5          ┆ 19000    ┆ 0.497749      ┆ 0.4717       ┆ 0.0261      ┆ 0.6579       ┆ -0.1601   │\n",
       "└───────────────┴──────────┴───────────────┴──────────────┴─────────────┴──────────────┴───────────┘"
      ]
     },
     "metadata": {},
     "output_type": "display_data"
    }
   ],
   "source": [
    "# 小数点以下4桁までに丸める\n",
    "rounded_opl_result_df = result_df.with_columns(\n",
    "    [\n",
    "        result_df[\"naive_estimate\"].round(4).alias(\"naive_estimate\"),\n",
    "        result_df[\"naive_error\"].round(4).alias(\"naive_error\"),\n",
    "        result_df[\"ips_estimate\"].round(4).alias(\"ips_estimate\"),\n",
    "        result_df[\"ips_error\"].round(4).alias(\"ips_error\"),\n",
    "    ]\n",
    ")\n",
    "display(rounded_opl_result_df)\n",
    "\n",
    "# 結果をcsvファイルに保存\n",
    "rounded_opl_result_df.write_csv(\"result.csv\")"
   ]
  },
  {
   "cell_type": "code",
   "execution_count": 10,
   "metadata": {},
   "outputs": [
    {
     "data": {
      "image/png": "[encoded data removed]",
      "text/plain": [
       "<Figure size 1000x600 with 1 Axes>"
      ]
     },
     "metadata": {},
     "output_type": "display_data"
    }
   ],
   "source": [
    "import seaborn as sns\n",
    "import matplotlib.pyplot as plt\n",
    "\n",
    "# 横軸 n_rounds, 縦軸 真の性能 のグラフを描画\n",
    "# グラフの描画\n",
    "plt.figure(figsize=(10, 6))\n",
    "sns.lineplot(\n",
    "    data=rounded_opl_result_df.to_pandas(),\n",
    "    x=\"n_rounds\",\n",
    "    y=\"ips_error\",\n",
    "    hue=\"logging_policy_name\",\n",
    "    marker=\"o\",\n",
    ")\n",
    "# plt.xscale(\"log\")\n",
    "plt.xlabel(\"n_rounds (the number of logged data)\")\n",
    "plt.ylabel(\"error (true value - estimated value)\")\n",
    "plt.title(\"Performance of OPE accuracy by logging policy and n_rounds\")\n",
    "plt.legend(title=\"logging_policy_name\")\n",
    "plt.show()"
   ]
  },
  {
   "cell_type": "code",
   "execution_count": 17,
   "metadata": {},
   "outputs": [
    {
     "name": "stdout",
     "output_type": "stream",
     "text": [
      "overriden __post_init__ for TwoTower Model\n",
      "Context Tower - Layer 0: 3 -> 100\n",
      "Action Tower - Layer 0: 3 -> 100\n",
      "overriden fit method\n"
     ]
    },
    {
     "name": "stderr",
     "output_type": "stream",
     "text": [
      "policy learning:   1%|          | 2/200 [00:00<00:32,  6.10it/s]"
     ]
    },
    {
     "name": "stdout",
     "output_type": "stream",
     "text": [
      "0th epoch: loss_value=2.3853790760040283\n",
      "policy_grad_arr.requires_grad: True\n",
      "policy_constraint.requires_grad: True\n",
      "1th epoch: loss_value=1.9531490802764893\n",
      "policy_grad_arr.requires_grad: True\n",
      "policy_constraint.requires_grad: True\n"
     ]
    },
    {
     "name": "stderr",
     "output_type": "stream",
     "text": [
      "policy learning:   2%|▏         | 4/200 [00:00<00:27,  7.21it/s]"
     ]
    },
    {
     "name": "stdout",
     "output_type": "stream",
     "text": [
      "2th epoch: loss_value=2.6588358879089355\n",
      "policy_grad_arr.requires_grad: True\n",
      "policy_constraint.requires_grad: True\n",
      "3th epoch: loss_value=2.301645517349243\n",
      "policy_grad_arr.requires_grad: True\n",
      "policy_constraint.requires_grad: True\n"
     ]
    },
    {
     "name": "stderr",
     "output_type": "stream",
     "text": [
      "policy learning:   3%|▎         | 6/200 [00:00<00:26,  7.24it/s]"
     ]
    },
    {
     "name": "stdout",
     "output_type": "stream",
     "text": [
      "4th epoch: loss_value=1.8470650911331177\n",
      "policy_grad_arr.requires_grad: True\n",
      "policy_constraint.requires_grad: True\n",
      "5th epoch: loss_value=2.0248987674713135\n",
      "policy_grad_arr.requires_grad: True\n",
      "policy_constraint.requires_grad: True\n"
     ]
    },
    {
     "name": "stderr",
     "output_type": "stream",
     "text": [
      "policy learning:   4%|▍         | 8/200 [00:01<00:22,  8.39it/s]"
     ]
    },
    {
     "name": "stdout",
     "output_type": "stream",
     "text": [
      "6th epoch: loss_value=2.2310924530029297\n",
      "policy_grad_arr.requires_grad: True\n",
      "policy_constraint.requires_grad: True\n",
      "7th epoch: loss_value=2.272660732269287\n",
      "policy_grad_arr.requires_grad: True\n",
      "policy_constraint.requires_grad: True\n"
     ]
    },
    {
     "name": "stderr",
     "output_type": "stream",
     "text": [
      "policy learning:   5%|▌         | 10/200 [00:01<00:23,  7.94it/s]"
     ]
    },
    {
     "name": "stdout",
     "output_type": "stream",
     "text": [
      "8th epoch: loss_value=2.302025556564331\n",
      "policy_grad_arr.requires_grad: True\n",
      "policy_constraint.requires_grad: True\n",
      "9th epoch: loss_value=1.7148005962371826\n",
      "policy_grad_arr.requires_grad: True\n",
      "policy_constraint.requires_grad: True\n"
     ]
    },
    {
     "name": "stderr",
     "output_type": "stream",
     "text": [
      "policy learning:   6%|▌         | 12/200 [00:01<00:25,  7.24it/s]"
     ]
    },
    {
     "name": "stdout",
     "output_type": "stream",
     "text": [
      "10th epoch: loss_value=1.9506601095199585\n",
      "policy_grad_arr.requires_grad: True\n",
      "policy_constraint.requires_grad: True\n",
      "11th epoch: loss_value=1.8820054531097412\n",
      "policy_grad_arr.requires_grad: True\n",
      "policy_constraint.requires_grad: True\n"
     ]
    },
    {
     "name": "stderr",
     "output_type": "stream",
     "text": [
      "policy learning:   7%|▋         | 14/200 [00:01<00:24,  7.47it/s]"
     ]
    },
    {
     "name": "stdout",
     "output_type": "stream",
     "text": [
      "12th epoch: loss_value=2.34429669380188\n",
      "policy_grad_arr.requires_grad: True\n",
      "policy_constraint.requires_grad: True\n",
      "13th epoch: loss_value=2.227616548538208\n",
      "policy_grad_arr.requires_grad: True\n",
      "policy_constraint.requires_grad: True\n"
     ]
    },
    {
     "name": "stderr",
     "output_type": "stream",
     "text": [
      "policy learning:   8%|▊         | 16/200 [00:02<00:24,  7.63it/s]"
     ]
    },
    {
     "name": "stdout",
     "output_type": "stream",
     "text": [
      "14th epoch: loss_value=2.198038101196289\n",
      "policy_grad_arr.requires_grad: True\n",
      "policy_constraint.requires_grad: True\n",
      "15th epoch: loss_value=2.237863779067993\n",
      "policy_grad_arr.requires_grad: True\n",
      "policy_constraint.requires_grad: True\n"
     ]
    },
    {
     "name": "stderr",
     "output_type": "stream",
     "text": [
      "policy learning:   9%|▉         | 18/200 [00:02<00:23,  7.78it/s]"
     ]
    },
    {
     "name": "stdout",
     "output_type": "stream",
     "text": [
      "16th epoch: loss_value=1.83688485622406\n",
      "policy_grad_arr.requires_grad: True\n",
      "policy_constraint.requires_grad: True\n",
      "17th epoch: loss_value=1.9948840141296387\n",
      "policy_grad_arr.requires_grad: True\n",
      "policy_constraint.requires_grad: True\n"
     ]
    },
    {
     "name": "stderr",
     "output_type": "stream",
     "text": [
      "policy learning:  10%|█         | 20/200 [00:02<00:22,  7.85it/s]"
     ]
    },
    {
     "name": "stdout",
     "output_type": "stream",
     "text": [
      "18th epoch: loss_value=1.716338872909546\n",
      "policy_grad_arr.requires_grad: True\n",
      "policy_constraint.requires_grad: True\n",
      "19th epoch: loss_value=1.8442631959915161\n",
      "policy_grad_arr.requires_grad: True\n",
      "policy_constraint.requires_grad: True\n"
     ]
    },
    {
     "name": "stderr",
     "output_type": "stream",
     "text": [
      "policy learning:  11%|█         | 22/200 [00:02<00:22,  7.85it/s]"
     ]
    },
    {
     "name": "stdout",
     "output_type": "stream",
     "text": [
      "20th epoch: loss_value=1.5791208744049072\n",
      "policy_grad_arr.requires_grad: True\n",
      "policy_constraint.requires_grad: True\n",
      "21th epoch: loss_value=1.8784897327423096\n",
      "policy_grad_arr.requires_grad: True\n",
      "policy_constraint.requires_grad: True\n"
     ]
    },
    {
     "name": "stderr",
     "output_type": "stream",
     "text": [
      "policy learning:  12%|█▏        | 24/200 [00:03<00:22,  7.86it/s]"
     ]
    },
    {
     "name": "stdout",
     "output_type": "stream",
     "text": [
      "22th epoch: loss_value=1.9984214305877686\n",
      "policy_grad_arr.requires_grad: True\n",
      "policy_constraint.requires_grad: True\n",
      "23th epoch: loss_value=2.157714366912842\n",
      "policy_grad_arr.requires_grad: True\n",
      "policy_constraint.requires_grad: True\n"
     ]
    },
    {
     "name": "stderr",
     "output_type": "stream",
     "text": [
      "policy learning:  13%|█▎        | 26/200 [00:03<00:23,  7.32it/s]"
     ]
    },
    {
     "name": "stdout",
     "output_type": "stream",
     "text": [
      "24th epoch: loss_value=1.9987330436706543\n",
      "policy_grad_arr.requires_grad: True\n",
      "policy_constraint.requires_grad: True\n",
      "25th epoch: loss_value=1.645615816116333\n",
      "policy_grad_arr.requires_grad: True\n",
      "policy_constraint.requires_grad: True\n"
     ]
    },
    {
     "name": "stderr",
     "output_type": "stream",
     "text": [
      "policy learning:  14%|█▍        | 28/200 [00:03<00:23,  7.25it/s]"
     ]
    },
    {
     "name": "stdout",
     "output_type": "stream",
     "text": [
      "26th epoch: loss_value=2.075453996658325\n",
      "policy_grad_arr.requires_grad: True\n",
      "policy_constraint.requires_grad: True\n",
      "27th epoch: loss_value=2.1939094066619873\n",
      "policy_grad_arr.requires_grad: True\n",
      "policy_constraint.requires_grad: True\n"
     ]
    },
    {
     "name": "stderr",
     "output_type": "stream",
     "text": [
      "policy learning:  15%|█▌        | 30/200 [00:04<00:23,  7.25it/s]"
     ]
    },
    {
     "name": "stdout",
     "output_type": "stream",
     "text": [
      "28th epoch: loss_value=2.23700213432312\n",
      "policy_grad_arr.requires_grad: True\n",
      "policy_constraint.requires_grad: True\n",
      "29th epoch: loss_value=1.6829578876495361\n",
      "policy_grad_arr.requires_grad: True\n",
      "policy_constraint.requires_grad: True\n"
     ]
    },
    {
     "name": "stderr",
     "output_type": "stream",
     "text": [
      "policy learning:  16%|█▌        | 32/200 [00:04<00:22,  7.31it/s]"
     ]
    },
    {
     "name": "stdout",
     "output_type": "stream",
     "text": [
      "30th epoch: loss_value=2.601593494415283\n",
      "policy_grad_arr.requires_grad: True\n",
      "policy_constraint.requires_grad: True\n",
      "31th epoch: loss_value=1.7525852918624878\n",
      "policy_grad_arr.requires_grad: True\n",
      "policy_constraint.requires_grad: True\n"
     ]
    },
    {
     "name": "stderr",
     "output_type": "stream",
     "text": [
      "policy learning:  17%|█▋        | 34/200 [00:04<00:22,  7.29it/s]"
     ]
    },
    {
     "name": "stdout",
     "output_type": "stream",
     "text": [
      "32th epoch: loss_value=2.1176459789276123\n",
      "policy_grad_arr.requires_grad: True\n",
      "policy_constraint.requires_grad: True\n",
      "33th epoch: loss_value=2.232517719268799\n",
      "policy_grad_arr.requires_grad: True\n",
      "policy_constraint.requires_grad: True\n"
     ]
    },
    {
     "name": "stderr",
     "output_type": "stream",
     "text": [
      "policy learning:  18%|█▊        | 36/200 [00:04<00:22,  7.30it/s]"
     ]
    },
    {
     "name": "stdout",
     "output_type": "stream",
     "text": [
      "34th epoch: loss_value=2.345752477645874\n",
      "policy_grad_arr.requires_grad: True\n",
      "policy_constraint.requires_grad: True\n",
      "35th epoch: loss_value=2.100468635559082\n",
      "policy_grad_arr.requires_grad: True\n",
      "policy_constraint.requires_grad: True\n"
     ]
    },
    {
     "name": "stderr",
     "output_type": "stream",
     "text": [
      "policy learning:  19%|█▉        | 38/200 [00:05<00:22,  7.32it/s]"
     ]
    },
    {
     "name": "stdout",
     "output_type": "stream",
     "text": [
      "36th epoch: loss_value=1.9182910919189453\n",
      "policy_grad_arr.requires_grad: True\n",
      "policy_constraint.requires_grad: True\n",
      "37th epoch: loss_value=2.0755813121795654\n",
      "policy_grad_arr.requires_grad: True\n",
      "policy_constraint.requires_grad: True\n"
     ]
    },
    {
     "name": "stderr",
     "output_type": "stream",
     "text": [
      "policy learning:  20%|██        | 40/200 [00:05<00:23,  6.90it/s]"
     ]
    },
    {
     "name": "stdout",
     "output_type": "stream",
     "text": [
      "38th epoch: loss_value=1.9846059083938599\n",
      "policy_grad_arr.requires_grad: True\n",
      "policy_constraint.requires_grad: True\n",
      "39th epoch: loss_value=1.7521357536315918\n",
      "policy_grad_arr.requires_grad: True\n",
      "policy_constraint.requires_grad: True\n"
     ]
    },
    {
     "name": "stderr",
     "output_type": "stream",
     "text": [
      "policy learning:  21%|██        | 42/200 [00:05<00:22,  7.09it/s]"
     ]
    },
    {
     "name": "stdout",
     "output_type": "stream",
     "text": [
      "40th epoch: loss_value=2.00076961517334\n",
      "policy_grad_arr.requires_grad: True\n",
      "policy_constraint.requires_grad: True\n",
      "41th epoch: loss_value=2.2302968502044678\n",
      "policy_grad_arr.requires_grad: True\n",
      "policy_constraint.requires_grad: True\n"
     ]
    },
    {
     "name": "stderr",
     "output_type": "stream",
     "text": [
      "policy learning:  22%|██▏       | 44/200 [00:05<00:21,  7.16it/s]"
     ]
    },
    {
     "name": "stdout",
     "output_type": "stream",
     "text": [
      "42th epoch: loss_value=1.9212127923965454\n",
      "policy_grad_arr.requires_grad: True\n",
      "policy_constraint.requires_grad: True\n",
      "43th epoch: loss_value=1.7204045057296753\n",
      "policy_grad_arr.requires_grad: True\n",
      "policy_constraint.requires_grad: True\n"
     ]
    },
    {
     "name": "stderr",
     "output_type": "stream",
     "text": [
      "policy learning:  23%|██▎       | 46/200 [00:06<00:21,  7.15it/s]"
     ]
    },
    {
     "name": "stdout",
     "output_type": "stream",
     "text": [
      "44th epoch: loss_value=1.730591058731079\n",
      "policy_grad_arr.requires_grad: True\n",
      "policy_constraint.requires_grad: True\n",
      "45th epoch: loss_value=1.842820405960083\n",
      "policy_grad_arr.requires_grad: True\n",
      "policy_constraint.requires_grad: True\n"
     ]
    },
    {
     "name": "stderr",
     "output_type": "stream",
     "text": [
      "policy learning:  24%|██▍       | 48/200 [00:06<00:18,  8.12it/s]"
     ]
    },
    {
     "name": "stdout",
     "output_type": "stream",
     "text": [
      "46th epoch: loss_value=1.965152621269226\n",
      "policy_grad_arr.requires_grad: True\n",
      "policy_constraint.requires_grad: True\n",
      "47th epoch: loss_value=1.600048542022705\n",
      "policy_grad_arr.requires_grad: True\n",
      "policy_constraint.requires_grad: True\n"
     ]
    },
    {
     "name": "stderr",
     "output_type": "stream",
     "text": [
      "policy learning:  25%|██▌       | 50/200 [00:06<00:18,  7.98it/s]"
     ]
    },
    {
     "name": "stdout",
     "output_type": "stream",
     "text": [
      "48th epoch: loss_value=2.111586332321167\n",
      "policy_grad_arr.requires_grad: True\n",
      "policy_constraint.requires_grad: True\n",
      "49th epoch: loss_value=2.2408313751220703\n",
      "policy_grad_arr.requires_grad: True\n",
      "policy_constraint.requires_grad: True\n"
     ]
    },
    {
     "name": "stderr",
     "output_type": "stream",
     "text": [
      "policy learning:  26%|██▌       | 52/200 [00:07<00:20,  7.21it/s]"
     ]
    },
    {
     "name": "stdout",
     "output_type": "stream",
     "text": [
      "50th epoch: loss_value=1.799452304840088\n",
      "policy_grad_arr.requires_grad: True\n",
      "policy_constraint.requires_grad: True\n",
      "51th epoch: loss_value=2.411090612411499\n",
      "policy_grad_arr.requires_grad: True\n",
      "policy_constraint.requires_grad: True\n"
     ]
    },
    {
     "name": "stderr",
     "output_type": "stream",
     "text": [
      "policy learning:  27%|██▋       | 54/200 [00:07<00:19,  7.54it/s]"
     ]
    },
    {
     "name": "stdout",
     "output_type": "stream",
     "text": [
      "52th epoch: loss_value=2.0299911499023438\n",
      "policy_grad_arr.requires_grad: True\n",
      "policy_constraint.requires_grad: True\n",
      "53th epoch: loss_value=1.9218461513519287\n",
      "policy_grad_arr.requires_grad: True\n",
      "policy_constraint.requires_grad: True\n"
     ]
    },
    {
     "name": "stderr",
     "output_type": "stream",
     "text": [
      "policy learning:  28%|██▊       | 56/200 [00:07<00:18,  7.70it/s]"
     ]
    },
    {
     "name": "stdout",
     "output_type": "stream",
     "text": [
      "54th epoch: loss_value=1.9177770614624023\n",
      "policy_grad_arr.requires_grad: True\n",
      "policy_constraint.requires_grad: True\n",
      "55th epoch: loss_value=2.1185085773468018\n",
      "policy_grad_arr.requires_grad: True\n",
      "policy_constraint.requires_grad: True\n"
     ]
    },
    {
     "name": "stderr",
     "output_type": "stream",
     "text": [
      "policy learning:  29%|██▉       | 58/200 [00:07<00:18,  7.83it/s]"
     ]
    },
    {
     "name": "stdout",
     "output_type": "stream",
     "text": [
      "56th epoch: loss_value=1.8681281805038452\n",
      "policy_grad_arr.requires_grad: True\n",
      "policy_constraint.requires_grad: True\n",
      "57th epoch: loss_value=2.287172555923462\n",
      "policy_grad_arr.requires_grad: True\n",
      "policy_constraint.requires_grad: True\n"
     ]
    },
    {
     "name": "stderr",
     "output_type": "stream",
     "text": [
      "policy learning:  30%|███       | 60/200 [00:08<00:17,  7.83it/s]"
     ]
    },
    {
     "name": "stdout",
     "output_type": "stream",
     "text": [
      "58th epoch: loss_value=2.332479476928711\n",
      "policy_grad_arr.requires_grad: True\n",
      "policy_constraint.requires_grad: True\n",
      "59th epoch: loss_value=1.9921088218688965\n",
      "policy_grad_arr.requires_grad: True\n",
      "policy_constraint.requires_grad: True\n"
     ]
    },
    {
     "name": "stderr",
     "output_type": "stream",
     "text": [
      "policy learning:  31%|███       | 62/200 [00:08<00:17,  7.88it/s]"
     ]
    },
    {
     "name": "stdout",
     "output_type": "stream",
     "text": [
      "60th epoch: loss_value=1.7544498443603516\n",
      "policy_grad_arr.requires_grad: True\n",
      "policy_constraint.requires_grad: True\n",
      "61th epoch: loss_value=1.8025437593460083\n",
      "policy_grad_arr.requires_grad: True\n",
      "policy_constraint.requires_grad: True\n"
     ]
    },
    {
     "name": "stderr",
     "output_type": "stream",
     "text": [
      "policy learning:  32%|███▏      | 64/200 [00:08<00:19,  6.99it/s]"
     ]
    },
    {
     "name": "stdout",
     "output_type": "stream",
     "text": [
      "62th epoch: loss_value=1.7490897178649902\n",
      "policy_grad_arr.requires_grad: True\n",
      "policy_constraint.requires_grad: True\n",
      "63th epoch: loss_value=1.9946410655975342\n",
      "policy_grad_arr.requires_grad: True\n",
      "policy_constraint.requires_grad: True\n"
     ]
    },
    {
     "name": "stderr",
     "output_type": "stream",
     "text": [
      "policy learning:  33%|███▎      | 66/200 [00:08<00:21,  6.36it/s]"
     ]
    },
    {
     "name": "stdout",
     "output_type": "stream",
     "text": [
      "64th epoch: loss_value=2.0326967239379883\n",
      "policy_grad_arr.requires_grad: True\n",
      "policy_constraint.requires_grad: True\n",
      "65th epoch: loss_value=2.0029795169830322\n",
      "policy_grad_arr.requires_grad: True\n",
      "policy_constraint.requires_grad: True\n"
     ]
    },
    {
     "name": "stderr",
     "output_type": "stream",
     "text": [
      "policy learning:  34%|███▍      | 68/200 [00:09<00:21,  6.28it/s]"
     ]
    },
    {
     "name": "stdout",
     "output_type": "stream",
     "text": [
      "66th epoch: loss_value=1.4183247089385986\n",
      "policy_grad_arr.requires_grad: True\n",
      "policy_constraint.requires_grad: True\n",
      "67th epoch: loss_value=2.362247943878174\n",
      "policy_grad_arr.requires_grad: True\n",
      "policy_constraint.requires_grad: True\n"
     ]
    },
    {
     "name": "stderr",
     "output_type": "stream",
     "text": [
      "policy learning:  35%|███▌      | 70/200 [00:09<00:19,  6.54it/s]"
     ]
    },
    {
     "name": "stdout",
     "output_type": "stream",
     "text": [
      "68th epoch: loss_value=2.1494691371917725\n",
      "policy_grad_arr.requires_grad: True\n",
      "policy_constraint.requires_grad: True\n",
      "69th epoch: loss_value=2.5820512771606445\n",
      "policy_grad_arr.requires_grad: True\n",
      "policy_constraint.requires_grad: True\n"
     ]
    },
    {
     "name": "stderr",
     "output_type": "stream",
     "text": [
      "policy learning:  36%|███▌      | 72/200 [00:09<00:19,  6.71it/s]"
     ]
    },
    {
     "name": "stdout",
     "output_type": "stream",
     "text": [
      "70th epoch: loss_value=1.8096612691879272\n",
      "policy_grad_arr.requires_grad: True\n",
      "policy_constraint.requires_grad: True\n",
      "71th epoch: loss_value=2.317371129989624\n",
      "policy_grad_arr.requires_grad: True\n",
      "policy_constraint.requires_grad: True\n"
     ]
    },
    {
     "name": "stderr",
     "output_type": "stream",
     "text": [
      "policy learning:  36%|███▋      | 73/200 [00:10<00:17,  7.29it/s]"
     ]
    },
    {
     "name": "stdout",
     "output_type": "stream",
     "text": [
      "72th epoch: loss_value=1.9131642580032349\n",
      "policy_grad_arr.requires_grad: True\n",
      "policy_constraint.requires_grad: True\n"
     ]
    },
    {
     "name": "stderr",
     "output_type": "stream",
     "text": [
      "policy learning:  38%|███▊      | 75/200 [00:10<00:18,  6.73it/s]"
     ]
    },
    {
     "name": "stdout",
     "output_type": "stream",
     "text": [
      "73th epoch: loss_value=2.4777145385742188\n",
      "policy_grad_arr.requires_grad: True\n",
      "policy_constraint.requires_grad: True\n",
      "74th epoch: loss_value=2.543781280517578\n",
      "policy_grad_arr.requires_grad: True\n",
      "policy_constraint.requires_grad: True\n"
     ]
    },
    {
     "name": "stderr",
     "output_type": "stream",
     "text": [
      "policy learning:  38%|███▊      | 77/200 [00:10<00:17,  7.14it/s]"
     ]
    },
    {
     "name": "stdout",
     "output_type": "stream",
     "text": [
      "75th epoch: loss_value=1.9276775121688843\n",
      "policy_grad_arr.requires_grad: True\n",
      "policy_constraint.requires_grad: True\n",
      "76th epoch: loss_value=2.373286247253418\n",
      "policy_grad_arr.requires_grad: True\n",
      "policy_constraint.requires_grad: True\n"
     ]
    },
    {
     "name": "stderr",
     "output_type": "stream",
     "text": [
      "policy learning:  40%|███▉      | 79/200 [00:10<00:16,  7.38it/s]"
     ]
    },
    {
     "name": "stdout",
     "output_type": "stream",
     "text": [
      "77th epoch: loss_value=1.8011581897735596\n",
      "policy_grad_arr.requires_grad: True\n",
      "policy_constraint.requires_grad: True\n",
      "78th epoch: loss_value=1.5292625427246094\n",
      "policy_grad_arr.requires_grad: True\n",
      "policy_constraint.requires_grad: True\n"
     ]
    },
    {
     "name": "stderr",
     "output_type": "stream",
     "text": [
      "policy learning:  40%|████      | 81/200 [00:11<00:17,  6.66it/s]"
     ]
    },
    {
     "name": "stdout",
     "output_type": "stream",
     "text": [
      "79th epoch: loss_value=1.928694248199463\n",
      "policy_grad_arr.requires_grad: True\n",
      "policy_constraint.requires_grad: True\n",
      "80th epoch: loss_value=1.9205387830734253\n",
      "policy_grad_arr.requires_grad: True\n",
      "policy_constraint.requires_grad: True\n"
     ]
    },
    {
     "name": "stderr",
     "output_type": "stream",
     "text": [
      "policy learning:  42%|████▏     | 83/200 [00:11<00:16,  7.17it/s]"
     ]
    },
    {
     "name": "stdout",
     "output_type": "stream",
     "text": [
      "81th epoch: loss_value=1.8352575302124023\n",
      "policy_grad_arr.requires_grad: True\n",
      "policy_constraint.requires_grad: True\n",
      "82th epoch: loss_value=2.2790722846984863\n",
      "policy_grad_arr.requires_grad: True\n",
      "policy_constraint.requires_grad: True\n"
     ]
    },
    {
     "name": "stderr",
     "output_type": "stream",
     "text": [
      "policy learning:  42%|████▎     | 85/200 [00:11<00:15,  7.51it/s]"
     ]
    },
    {
     "name": "stdout",
     "output_type": "stream",
     "text": [
      "83th epoch: loss_value=2.3575806617736816\n",
      "policy_grad_arr.requires_grad: True\n",
      "policy_constraint.requires_grad: True\n",
      "84th epoch: loss_value=2.700284004211426\n",
      "policy_grad_arr.requires_grad: True\n",
      "policy_constraint.requires_grad: True\n"
     ]
    },
    {
     "name": "stderr",
     "output_type": "stream",
     "text": [
      "policy learning:  44%|████▎     | 87/200 [00:12<00:14,  7.54it/s]"
     ]
    },
    {
     "name": "stdout",
     "output_type": "stream",
     "text": [
      "85th epoch: loss_value=2.2391459941864014\n",
      "policy_grad_arr.requires_grad: True\n",
      "policy_constraint.requires_grad: True\n",
      "86th epoch: loss_value=2.191833257675171\n",
      "policy_grad_arr.requires_grad: True\n",
      "policy_constraint.requires_grad: True\n"
     ]
    },
    {
     "name": "stderr",
     "output_type": "stream",
     "text": [
      "policy learning:  44%|████▍     | 89/200 [00:12<00:15,  7.04it/s]"
     ]
    },
    {
     "name": "stdout",
     "output_type": "stream",
     "text": [
      "87th epoch: loss_value=2.277409553527832\n",
      "policy_grad_arr.requires_grad: True\n",
      "policy_constraint.requires_grad: True\n",
      "88th epoch: loss_value=1.9119079113006592\n",
      "policy_grad_arr.requires_grad: True\n",
      "policy_constraint.requires_grad: True\n"
     ]
    },
    {
     "name": "stderr",
     "output_type": "stream",
     "text": [
      "policy learning:  46%|████▌     | 91/200 [00:12<00:15,  7.12it/s]"
     ]
    },
    {
     "name": "stdout",
     "output_type": "stream",
     "text": [
      "89th epoch: loss_value=1.7652479410171509\n",
      "policy_grad_arr.requires_grad: True\n",
      "policy_constraint.requires_grad: True\n",
      "90th epoch: loss_value=1.7959699630737305\n",
      "policy_grad_arr.requires_grad: True\n",
      "policy_constraint.requires_grad: True\n"
     ]
    },
    {
     "name": "stderr",
     "output_type": "stream",
     "text": [
      "policy learning:  46%|████▋     | 93/200 [00:12<00:16,  6.65it/s]"
     ]
    },
    {
     "name": "stdout",
     "output_type": "stream",
     "text": [
      "91th epoch: loss_value=1.5041155815124512\n",
      "policy_grad_arr.requires_grad: True\n",
      "policy_constraint.requires_grad: True\n",
      "92th epoch: loss_value=1.8946224451065063\n",
      "policy_grad_arr.requires_grad: True\n",
      "policy_constraint.requires_grad: True\n"
     ]
    },
    {
     "name": "stderr",
     "output_type": "stream",
     "text": [
      "policy learning:  48%|████▊     | 95/200 [00:13<00:14,  7.02it/s]"
     ]
    },
    {
     "name": "stdout",
     "output_type": "stream",
     "text": [
      "93th epoch: loss_value=2.278273105621338\n",
      "policy_grad_arr.requires_grad: True\n",
      "policy_constraint.requires_grad: True\n",
      "94th epoch: loss_value=1.8169231414794922\n",
      "policy_grad_arr.requires_grad: True\n",
      "policy_constraint.requires_grad: True\n"
     ]
    },
    {
     "name": "stderr",
     "output_type": "stream",
     "text": [
      "policy learning:  48%|████▊     | 97/200 [00:13<00:14,  7.11it/s]"
     ]
    },
    {
     "name": "stdout",
     "output_type": "stream",
     "text": [
      "95th epoch: loss_value=2.4330170154571533\n",
      "policy_grad_arr.requires_grad: True\n",
      "policy_constraint.requires_grad: True\n",
      "96th epoch: loss_value=1.7746328115463257\n",
      "policy_grad_arr.requires_grad: True\n",
      "policy_constraint.requires_grad: True\n"
     ]
    },
    {
     "name": "stderr",
     "output_type": "stream",
     "text": [
      "policy learning:  50%|████▉     | 99/200 [00:13<00:14,  7.13it/s]"
     ]
    },
    {
     "name": "stdout",
     "output_type": "stream",
     "text": [
      "97th epoch: loss_value=2.1559314727783203\n",
      "policy_grad_arr.requires_grad: True\n",
      "policy_constraint.requires_grad: True\n",
      "98th epoch: loss_value=2.11616849899292\n",
      "policy_grad_arr.requires_grad: True\n",
      "policy_constraint.requires_grad: True\n"
     ]
    },
    {
     "name": "stderr",
     "output_type": "stream",
     "text": [
      "policy learning:  50%|█████     | 101/200 [00:13<00:13,  7.17it/s]"
     ]
    },
    {
     "name": "stdout",
     "output_type": "stream",
     "text": [
      "99th epoch: loss_value=1.6181917190551758\n",
      "policy_grad_arr.requires_grad: True\n",
      "policy_constraint.requires_grad: True\n",
      "100th epoch: loss_value=2.163455009460449\n",
      "policy_grad_arr.requires_grad: True\n",
      "policy_constraint.requires_grad: True\n"
     ]
    },
    {
     "name": "stderr",
     "output_type": "stream",
     "text": [
      "policy learning:  52%|█████▏    | 103/200 [00:14<00:14,  6.75it/s]"
     ]
    },
    {
     "name": "stdout",
     "output_type": "stream",
     "text": [
      "101th epoch: loss_value=1.897588849067688\n",
      "policy_grad_arr.requires_grad: True\n",
      "policy_constraint.requires_grad: True\n",
      "102th epoch: loss_value=2.386162281036377\n",
      "policy_grad_arr.requires_grad: True\n",
      "policy_constraint.requires_grad: True\n"
     ]
    },
    {
     "name": "stderr",
     "output_type": "stream",
     "text": [
      "policy learning:  52%|█████▎    | 105/200 [00:14<00:13,  6.94it/s]"
     ]
    },
    {
     "name": "stdout",
     "output_type": "stream",
     "text": [
      "103th epoch: loss_value=2.482041120529175\n",
      "policy_grad_arr.requires_grad: True\n",
      "policy_constraint.requires_grad: True\n",
      "104th epoch: loss_value=2.0455057621002197\n",
      "policy_grad_arr.requires_grad: True\n",
      "policy_constraint.requires_grad: True\n"
     ]
    },
    {
     "name": "stderr",
     "output_type": "stream",
     "text": [
      "policy learning:  54%|█████▎    | 107/200 [00:14<00:13,  7.05it/s]"
     ]
    },
    {
     "name": "stdout",
     "output_type": "stream",
     "text": [
      "105th epoch: loss_value=1.8424214124679565\n",
      "policy_grad_arr.requires_grad: True\n",
      "policy_constraint.requires_grad: True\n",
      "106th epoch: loss_value=2.005441427230835\n",
      "policy_grad_arr.requires_grad: True\n",
      "policy_constraint.requires_grad: True\n"
     ]
    },
    {
     "name": "stderr",
     "output_type": "stream",
     "text": [
      "policy learning:  55%|█████▍    | 109/200 [00:15<00:12,  7.09it/s]"
     ]
    },
    {
     "name": "stdout",
     "output_type": "stream",
     "text": [
      "107th epoch: loss_value=1.9108891487121582\n",
      "policy_grad_arr.requires_grad: True\n",
      "policy_constraint.requires_grad: True\n",
      "108th epoch: loss_value=1.7439403533935547\n",
      "policy_grad_arr.requires_grad: True\n",
      "policy_constraint.requires_grad: True\n"
     ]
    },
    {
     "name": "stderr",
     "output_type": "stream",
     "text": [
      "policy learning:  56%|█████▌    | 111/200 [00:15<00:10,  8.16it/s]"
     ]
    },
    {
     "name": "stdout",
     "output_type": "stream",
     "text": [
      "109th epoch: loss_value=2.416792631149292\n",
      "policy_grad_arr.requires_grad: True\n",
      "policy_constraint.requires_grad: True\n",
      "110th epoch: loss_value=2.0547304153442383\n",
      "policy_grad_arr.requires_grad: True\n",
      "policy_constraint.requires_grad: True\n"
     ]
    },
    {
     "name": "stderr",
     "output_type": "stream",
     "text": [
      "policy learning:  56%|█████▋    | 113/200 [00:15<00:11,  7.65it/s]"
     ]
    },
    {
     "name": "stdout",
     "output_type": "stream",
     "text": [
      "111th epoch: loss_value=2.185032367706299\n",
      "policy_grad_arr.requires_grad: True\n",
      "policy_constraint.requires_grad: True\n",
      "112th epoch: loss_value=2.177778959274292\n",
      "policy_grad_arr.requires_grad: True\n",
      "policy_constraint.requires_grad: True\n"
     ]
    },
    {
     "name": "stderr",
     "output_type": "stream",
     "text": [
      "policy learning:  57%|█████▊    | 115/200 [00:15<00:10,  7.75it/s]"
     ]
    },
    {
     "name": "stdout",
     "output_type": "stream",
     "text": [
      "113th epoch: loss_value=2.120008707046509\n",
      "policy_grad_arr.requires_grad: True\n",
      "policy_constraint.requires_grad: True\n",
      "114th epoch: loss_value=1.8399919271469116\n",
      "policy_grad_arr.requires_grad: True\n",
      "policy_constraint.requires_grad: True\n"
     ]
    },
    {
     "name": "stderr",
     "output_type": "stream",
     "text": [
      "policy learning:  58%|█████▊    | 117/200 [00:16<00:10,  7.76it/s]"
     ]
    },
    {
     "name": "stdout",
     "output_type": "stream",
     "text": [
      "115th epoch: loss_value=2.2459511756896973\n",
      "policy_grad_arr.requires_grad: True\n",
      "policy_constraint.requires_grad: True\n",
      "116th epoch: loss_value=1.3386297225952148\n",
      "policy_grad_arr.requires_grad: True\n",
      "policy_constraint.requires_grad: True\n"
     ]
    },
    {
     "name": "stderr",
     "output_type": "stream",
     "text": [
      "policy learning:  60%|█████▉    | 119/200 [00:16<00:10,  7.87it/s]"
     ]
    },
    {
     "name": "stdout",
     "output_type": "stream",
     "text": [
      "117th epoch: loss_value=2.074281930923462\n",
      "policy_grad_arr.requires_grad: True\n",
      "policy_constraint.requires_grad: True\n",
      "118th epoch: loss_value=2.2750046253204346\n",
      "policy_grad_arr.requires_grad: True\n",
      "policy_constraint.requires_grad: True\n"
     ]
    },
    {
     "name": "stderr",
     "output_type": "stream",
     "text": [
      "policy learning:  60%|██████    | 121/200 [00:16<00:09,  7.93it/s]"
     ]
    },
    {
     "name": "stdout",
     "output_type": "stream",
     "text": [
      "119th epoch: loss_value=2.163402557373047\n",
      "policy_grad_arr.requires_grad: True\n",
      "policy_constraint.requires_grad: True\n",
      "120th epoch: loss_value=2.5209226608276367\n",
      "policy_grad_arr.requires_grad: True\n",
      "policy_constraint.requires_grad: True\n"
     ]
    },
    {
     "name": "stderr",
     "output_type": "stream",
     "text": [
      "policy learning:  62%|██████▏   | 123/200 [00:16<00:10,  7.42it/s]"
     ]
    },
    {
     "name": "stdout",
     "output_type": "stream",
     "text": [
      "121th epoch: loss_value=1.8825823068618774\n",
      "policy_grad_arr.requires_grad: True\n",
      "policy_constraint.requires_grad: True\n",
      "122th epoch: loss_value=1.9560779333114624\n",
      "policy_grad_arr.requires_grad: True\n",
      "policy_constraint.requires_grad: True\n"
     ]
    },
    {
     "name": "stderr",
     "output_type": "stream",
     "text": [
      "policy learning:  62%|██████▎   | 125/200 [00:17<00:09,  7.52it/s]"
     ]
    },
    {
     "name": "stdout",
     "output_type": "stream",
     "text": [
      "123th epoch: loss_value=2.12600040435791\n",
      "policy_grad_arr.requires_grad: True\n",
      "policy_constraint.requires_grad: True\n",
      "124th epoch: loss_value=1.7686290740966797\n",
      "policy_grad_arr.requires_grad: True\n",
      "policy_constraint.requires_grad: True\n"
     ]
    },
    {
     "name": "stderr",
     "output_type": "stream",
     "text": [
      "policy learning:  64%|██████▎   | 127/200 [00:17<00:09,  7.61it/s]"
     ]
    },
    {
     "name": "stdout",
     "output_type": "stream",
     "text": [
      "125th epoch: loss_value=2.1601343154907227\n",
      "policy_grad_arr.requires_grad: True\n",
      "policy_constraint.requires_grad: True\n",
      "126th epoch: loss_value=2.1508076190948486\n",
      "policy_grad_arr.requires_grad: True\n",
      "policy_constraint.requires_grad: True\n"
     ]
    },
    {
     "name": "stderr",
     "output_type": "stream",
     "text": [
      "policy learning:  64%|██████▍   | 129/200 [00:17<00:09,  7.57it/s]"
     ]
    },
    {
     "name": "stdout",
     "output_type": "stream",
     "text": [
      "127th epoch: loss_value=2.1152398586273193\n",
      "policy_grad_arr.requires_grad: True\n",
      "policy_constraint.requires_grad: True\n",
      "128th epoch: loss_value=2.344372034072876\n",
      "policy_grad_arr.requires_grad: True\n",
      "policy_constraint.requires_grad: True\n"
     ]
    },
    {
     "name": "stderr",
     "output_type": "stream",
     "text": [
      "policy learning:  66%|██████▌   | 131/200 [00:18<00:09,  7.21it/s]"
     ]
    },
    {
     "name": "stdout",
     "output_type": "stream",
     "text": [
      "129th epoch: loss_value=1.7381348609924316\n",
      "policy_grad_arr.requires_grad: True\n",
      "policy_constraint.requires_grad: True\n",
      "130th epoch: loss_value=1.9256640672683716\n",
      "policy_grad_arr.requires_grad: True\n",
      "policy_constraint.requires_grad: True\n"
     ]
    },
    {
     "name": "stderr",
     "output_type": "stream",
     "text": [
      "policy learning:  66%|██████▋   | 133/200 [00:18<00:09,  7.10it/s]"
     ]
    },
    {
     "name": "stdout",
     "output_type": "stream",
     "text": [
      "131th epoch: loss_value=2.208089828491211\n",
      "policy_grad_arr.requires_grad: True\n",
      "policy_constraint.requires_grad: True\n",
      "132th epoch: loss_value=1.6868658065795898\n",
      "policy_grad_arr.requires_grad: True\n",
      "policy_constraint.requires_grad: True\n"
     ]
    },
    {
     "name": "stderr",
     "output_type": "stream",
     "text": [
      "policy learning:  68%|██████▊   | 135/200 [00:18<00:09,  7.08it/s]"
     ]
    },
    {
     "name": "stdout",
     "output_type": "stream",
     "text": [
      "133th epoch: loss_value=2.633988380432129\n",
      "policy_grad_arr.requires_grad: True\n",
      "policy_constraint.requires_grad: True\n",
      "134th epoch: loss_value=1.972591757774353\n",
      "policy_grad_arr.requires_grad: True\n",
      "policy_constraint.requires_grad: True\n"
     ]
    },
    {
     "name": "stderr",
     "output_type": "stream",
     "text": [
      "policy learning:  68%|██████▊   | 137/200 [00:18<00:08,  7.06it/s]"
     ]
    },
    {
     "name": "stdout",
     "output_type": "stream",
     "text": [
      "135th epoch: loss_value=2.272268533706665\n",
      "policy_grad_arr.requires_grad: True\n",
      "policy_constraint.requires_grad: True\n",
      "136th epoch: loss_value=1.7754565477371216\n",
      "policy_grad_arr.requires_grad: True\n",
      "policy_constraint.requires_grad: True\n"
     ]
    },
    {
     "name": "stderr",
     "output_type": "stream",
     "text": [
      "policy learning:  70%|██████▉   | 139/200 [00:19<00:08,  7.12it/s]"
     ]
    },
    {
     "name": "stdout",
     "output_type": "stream",
     "text": [
      "137th epoch: loss_value=1.9154248237609863\n",
      "policy_grad_arr.requires_grad: True\n",
      "policy_constraint.requires_grad: True\n",
      "138th epoch: loss_value=2.230893135070801\n",
      "policy_grad_arr.requires_grad: True\n",
      "policy_constraint.requires_grad: True\n"
     ]
    },
    {
     "name": "stderr",
     "output_type": "stream",
     "text": [
      "policy learning:  70%|███████   | 141/200 [00:19<00:08,  7.20it/s]"
     ]
    },
    {
     "name": "stdout",
     "output_type": "stream",
     "text": [
      "139th epoch: loss_value=2.168771505355835\n",
      "policy_grad_arr.requires_grad: True\n",
      "policy_constraint.requires_grad: True\n",
      "140th epoch: loss_value=1.6887425184249878\n",
      "policy_grad_arr.requires_grad: True\n",
      "policy_constraint.requires_grad: True\n"
     ]
    },
    {
     "name": "stderr",
     "output_type": "stream",
     "text": [
      "policy learning:  72%|███████▏  | 143/200 [00:19<00:08,  6.84it/s]"
     ]
    },
    {
     "name": "stdout",
     "output_type": "stream",
     "text": [
      "141th epoch: loss_value=1.9465124607086182\n",
      "policy_grad_arr.requires_grad: True\n",
      "policy_constraint.requires_grad: True\n",
      "142th epoch: loss_value=2.1853418350219727\n",
      "policy_grad_arr.requires_grad: True\n",
      "policy_constraint.requires_grad: True\n"
     ]
    },
    {
     "name": "stderr",
     "output_type": "stream",
     "text": [
      "policy learning:  72%|███████▎  | 145/200 [00:20<00:07,  7.01it/s]"
     ]
    },
    {
     "name": "stdout",
     "output_type": "stream",
     "text": [
      "143th epoch: loss_value=2.0107526779174805\n",
      "policy_grad_arr.requires_grad: True\n",
      "policy_constraint.requires_grad: True\n",
      "144th epoch: loss_value=1.8903729915618896\n",
      "policy_grad_arr.requires_grad: True\n",
      "policy_constraint.requires_grad: True\n"
     ]
    },
    {
     "name": "stderr",
     "output_type": "stream",
     "text": [
      "policy learning:  74%|███████▎  | 147/200 [00:20<00:07,  7.14it/s]"
     ]
    },
    {
     "name": "stdout",
     "output_type": "stream",
     "text": [
      "145th epoch: loss_value=2.272653579711914\n",
      "policy_grad_arr.requires_grad: True\n",
      "policy_constraint.requires_grad: True\n",
      "146th epoch: loss_value=2.0780115127563477\n",
      "policy_grad_arr.requires_grad: True\n",
      "policy_constraint.requires_grad: True\n"
     ]
    },
    {
     "name": "stderr",
     "output_type": "stream",
     "text": [
      "policy learning:  74%|███████▍  | 149/200 [00:20<00:07,  7.27it/s]"
     ]
    },
    {
     "name": "stdout",
     "output_type": "stream",
     "text": [
      "147th epoch: loss_value=2.3983519077301025\n",
      "policy_grad_arr.requires_grad: True\n",
      "policy_constraint.requires_grad: True\n",
      "148th epoch: loss_value=2.201523542404175\n",
      "policy_grad_arr.requires_grad: True\n",
      "policy_constraint.requires_grad: True\n"
     ]
    },
    {
     "name": "stderr",
     "output_type": "stream",
     "text": [
      "policy learning:  76%|███████▌  | 151/200 [00:20<00:07,  6.87it/s]"
     ]
    },
    {
     "name": "stdout",
     "output_type": "stream",
     "text": [
      "149th epoch: loss_value=1.6579079627990723\n",
      "policy_grad_arr.requires_grad: True\n",
      "policy_constraint.requires_grad: True\n",
      "150th epoch: loss_value=2.0776243209838867\n",
      "policy_grad_arr.requires_grad: True\n",
      "policy_constraint.requires_grad: True\n"
     ]
    },
    {
     "name": "stderr",
     "output_type": "stream",
     "text": [
      "policy learning:  76%|███████▋  | 153/200 [00:21<00:05,  7.97it/s]"
     ]
    },
    {
     "name": "stdout",
     "output_type": "stream",
     "text": [
      "151th epoch: loss_value=2.356353998184204\n",
      "policy_grad_arr.requires_grad: True\n",
      "policy_constraint.requires_grad: True\n",
      "152th epoch: loss_value=2.14910888671875\n",
      "policy_grad_arr.requires_grad: True\n",
      "policy_constraint.requires_grad: True\n"
     ]
    },
    {
     "name": "stderr",
     "output_type": "stream",
     "text": [
      "policy learning:  78%|███████▊  | 155/200 [00:21<00:05,  7.96it/s]"
     ]
    },
    {
     "name": "stdout",
     "output_type": "stream",
     "text": [
      "153th epoch: loss_value=2.1185050010681152\n",
      "policy_grad_arr.requires_grad: True\n",
      "policy_constraint.requires_grad: True\n",
      "154th epoch: loss_value=1.616917371749878\n",
      "policy_grad_arr.requires_grad: True\n",
      "policy_constraint.requires_grad: True\n"
     ]
    },
    {
     "name": "stderr",
     "output_type": "stream",
     "text": [
      "policy learning:  78%|███████▊  | 157/200 [00:21<00:05,  7.87it/s]"
     ]
    },
    {
     "name": "stdout",
     "output_type": "stream",
     "text": [
      "155th epoch: loss_value=1.950334906578064\n",
      "policy_grad_arr.requires_grad: True\n",
      "policy_constraint.requires_grad: True\n",
      "156th epoch: loss_value=2.2021052837371826\n",
      "policy_grad_arr.requires_grad: True\n",
      "policy_constraint.requires_grad: True\n"
     ]
    },
    {
     "name": "stderr",
     "output_type": "stream",
     "text": [
      "policy learning:  80%|███████▉  | 159/200 [00:21<00:05,  7.68it/s]"
     ]
    },
    {
     "name": "stdout",
     "output_type": "stream",
     "text": [
      "157th epoch: loss_value=2.0206339359283447\n",
      "policy_grad_arr.requires_grad: True\n",
      "policy_constraint.requires_grad: True\n",
      "158th epoch: loss_value=2.1324892044067383\n",
      "policy_grad_arr.requires_grad: True\n",
      "policy_constraint.requires_grad: True\n"
     ]
    },
    {
     "name": "stderr",
     "output_type": "stream",
     "text": [
      "policy learning:  80%|████████  | 161/200 [00:22<00:05,  7.71it/s]"
     ]
    },
    {
     "name": "stdout",
     "output_type": "stream",
     "text": [
      "159th epoch: loss_value=2.005390167236328\n",
      "policy_grad_arr.requires_grad: True\n",
      "policy_constraint.requires_grad: True\n",
      "160th epoch: loss_value=2.1284945011138916\n",
      "policy_grad_arr.requires_grad: True\n",
      "policy_constraint.requires_grad: True\n"
     ]
    },
    {
     "name": "stderr",
     "output_type": "stream",
     "text": [
      "policy learning:  82%|████████▏ | 163/200 [00:22<00:05,  7.34it/s]"
     ]
    },
    {
     "name": "stdout",
     "output_type": "stream",
     "text": [
      "161th epoch: loss_value=2.046543598175049\n",
      "policy_grad_arr.requires_grad: True\n",
      "policy_constraint.requires_grad: True\n",
      "162th epoch: loss_value=2.343132972717285\n",
      "policy_grad_arr.requires_grad: True\n",
      "policy_constraint.requires_grad: True\n"
     ]
    },
    {
     "name": "stderr",
     "output_type": "stream",
     "text": [
      "policy learning:  82%|████████▎ | 165/200 [00:22<00:04,  7.56it/s]"
     ]
    },
    {
     "name": "stdout",
     "output_type": "stream",
     "text": [
      "163th epoch: loss_value=2.123770236968994\n",
      "policy_grad_arr.requires_grad: True\n",
      "policy_constraint.requires_grad: True\n",
      "164th epoch: loss_value=2.3443851470947266\n",
      "policy_grad_arr.requires_grad: True\n",
      "policy_constraint.requires_grad: True\n"
     ]
    },
    {
     "name": "stderr",
     "output_type": "stream",
     "text": [
      "policy learning:  84%|████████▎ | 167/200 [00:22<00:04,  7.54it/s]"
     ]
    },
    {
     "name": "stdout",
     "output_type": "stream",
     "text": [
      "165th epoch: loss_value=1.773208498954773\n",
      "policy_grad_arr.requires_grad: True\n",
      "policy_constraint.requires_grad: True\n",
      "166th epoch: loss_value=1.9681384563446045\n",
      "policy_grad_arr.requires_grad: True\n",
      "policy_constraint.requires_grad: True\n"
     ]
    },
    {
     "name": "stderr",
     "output_type": "stream",
     "text": [
      "policy learning:  84%|████████▍ | 169/200 [00:23<00:04,  7.62it/s]"
     ]
    },
    {
     "name": "stdout",
     "output_type": "stream",
     "text": [
      "167th epoch: loss_value=2.20228910446167\n",
      "policy_grad_arr.requires_grad: True\n",
      "policy_constraint.requires_grad: True\n",
      "168th epoch: loss_value=2.001262664794922\n",
      "policy_grad_arr.requires_grad: True\n",
      "policy_constraint.requires_grad: True\n"
     ]
    },
    {
     "name": "stderr",
     "output_type": "stream",
     "text": [
      "policy learning:  86%|████████▌ | 171/200 [00:23<00:03,  7.67it/s]"
     ]
    },
    {
     "name": "stdout",
     "output_type": "stream",
     "text": [
      "169th epoch: loss_value=2.0285208225250244\n",
      "policy_grad_arr.requires_grad: True\n",
      "policy_constraint.requires_grad: True\n",
      "170th epoch: loss_value=2.152771234512329\n",
      "policy_grad_arr.requires_grad: True\n",
      "policy_constraint.requires_grad: True\n"
     ]
    },
    {
     "name": "stderr",
     "output_type": "stream",
     "text": [
      "policy learning:  86%|████████▋ | 173/200 [00:23<00:03,  7.73it/s]"
     ]
    },
    {
     "name": "stdout",
     "output_type": "stream",
     "text": [
      "171th epoch: loss_value=1.9239579439163208\n",
      "policy_grad_arr.requires_grad: True\n",
      "policy_constraint.requires_grad: True\n",
      "172th epoch: loss_value=2.537649154663086\n",
      "policy_grad_arr.requires_grad: True\n",
      "policy_constraint.requires_grad: True\n"
     ]
    },
    {
     "name": "stderr",
     "output_type": "stream",
     "text": [
      "policy learning:  88%|████████▊ | 175/200 [00:24<00:03,  7.29it/s]"
     ]
    },
    {
     "name": "stdout",
     "output_type": "stream",
     "text": [
      "173th epoch: loss_value=1.6357547044754028\n",
      "policy_grad_arr.requires_grad: True\n",
      "policy_constraint.requires_grad: True\n",
      "174th epoch: loss_value=2.010009527206421\n",
      "policy_grad_arr.requires_grad: True\n",
      "policy_constraint.requires_grad: True\n"
     ]
    },
    {
     "name": "stderr",
     "output_type": "stream",
     "text": [
      "policy learning:  88%|████████▊ | 177/200 [00:24<00:03,  6.90it/s]"
     ]
    },
    {
     "name": "stdout",
     "output_type": "stream",
     "text": [
      "175th epoch: loss_value=1.8369321823120117\n",
      "policy_grad_arr.requires_grad: True\n",
      "policy_constraint.requires_grad: True\n",
      "176th epoch: loss_value=1.9243978261947632\n",
      "policy_grad_arr.requires_grad: True\n",
      "policy_constraint.requires_grad: True\n"
     ]
    },
    {
     "name": "stderr",
     "output_type": "stream",
     "text": [
      "policy learning:  90%|████████▉ | 179/200 [00:24<00:02,  7.03it/s]"
     ]
    },
    {
     "name": "stdout",
     "output_type": "stream",
     "text": [
      "177th epoch: loss_value=2.300778865814209\n",
      "policy_grad_arr.requires_grad: True\n",
      "policy_constraint.requires_grad: True\n",
      "178th epoch: loss_value=2.071087598800659\n",
      "policy_grad_arr.requires_grad: True\n",
      "policy_constraint.requires_grad: True\n"
     ]
    },
    {
     "name": "stderr",
     "output_type": "stream",
     "text": [
      "policy learning:  90%|█████████ | 181/200 [00:24<00:02,  7.10it/s]"
     ]
    },
    {
     "name": "stdout",
     "output_type": "stream",
     "text": [
      "179th epoch: loss_value=1.8992654085159302\n",
      "policy_grad_arr.requires_grad: True\n",
      "policy_constraint.requires_grad: True\n",
      "180th epoch: loss_value=2.083374261856079\n",
      "policy_grad_arr.requires_grad: True\n",
      "policy_constraint.requires_grad: True\n"
     ]
    },
    {
     "name": "stderr",
     "output_type": "stream",
     "text": [
      "policy learning:  92%|█████████▏| 183/200 [00:25<00:02,  7.14it/s]"
     ]
    },
    {
     "name": "stdout",
     "output_type": "stream",
     "text": [
      "181th epoch: loss_value=2.3118209838867188\n",
      "policy_grad_arr.requires_grad: True\n",
      "policy_constraint.requires_grad: True\n",
      "182th epoch: loss_value=1.9510507583618164\n",
      "policy_grad_arr.requires_grad: True\n",
      "policy_constraint.requires_grad: True\n"
     ]
    },
    {
     "name": "stderr",
     "output_type": "stream",
     "text": [
      "policy learning:  92%|█████████▎| 185/200 [00:25<00:02,  7.15it/s]"
     ]
    },
    {
     "name": "stdout",
     "output_type": "stream",
     "text": [
      "183th epoch: loss_value=1.8074018955230713\n",
      "policy_grad_arr.requires_grad: True\n",
      "policy_constraint.requires_grad: True\n",
      "184th epoch: loss_value=1.8688963651657104\n",
      "policy_grad_arr.requires_grad: True\n",
      "policy_constraint.requires_grad: True\n"
     ]
    },
    {
     "name": "stderr",
     "output_type": "stream",
     "text": [
      "policy learning:  94%|█████████▎| 187/200 [00:25<00:01,  7.12it/s]"
     ]
    },
    {
     "name": "stdout",
     "output_type": "stream",
     "text": [
      "185th epoch: loss_value=2.435626983642578\n",
      "policy_grad_arr.requires_grad: True\n",
      "policy_constraint.requires_grad: True\n",
      "186th epoch: loss_value=1.5953619480133057\n",
      "policy_grad_arr.requires_grad: True\n",
      "policy_constraint.requires_grad: True\n"
     ]
    },
    {
     "name": "stderr",
     "output_type": "stream",
     "text": [
      "policy learning:  94%|█████████▍| 189/200 [00:25<00:01,  6.81it/s]"
     ]
    },
    {
     "name": "stdout",
     "output_type": "stream",
     "text": [
      "187th epoch: loss_value=2.2015328407287598\n",
      "policy_grad_arr.requires_grad: True\n",
      "policy_constraint.requires_grad: True\n",
      "188th epoch: loss_value=1.8818492889404297\n",
      "policy_grad_arr.requires_grad: True\n",
      "policy_constraint.requires_grad: True\n"
     ]
    },
    {
     "name": "stderr",
     "output_type": "stream",
     "text": [
      "policy learning:  96%|█████████▌| 191/200 [00:26<00:01,  7.00it/s]"
     ]
    },
    {
     "name": "stdout",
     "output_type": "stream",
     "text": [
      "189th epoch: loss_value=2.6177446842193604\n",
      "policy_grad_arr.requires_grad: True\n",
      "policy_constraint.requires_grad: True\n",
      "190th epoch: loss_value=1.7860199213027954\n",
      "policy_grad_arr.requires_grad: True\n",
      "policy_constraint.requires_grad: True\n"
     ]
    },
    {
     "name": "stderr",
     "output_type": "stream",
     "text": [
      "policy learning:  96%|█████████▋| 193/200 [00:26<00:00,  7.09it/s]"
     ]
    },
    {
     "name": "stdout",
     "output_type": "stream",
     "text": [
      "191th epoch: loss_value=1.8408381938934326\n",
      "policy_grad_arr.requires_grad: True\n",
      "policy_constraint.requires_grad: True\n",
      "192th epoch: loss_value=2.1352808475494385\n",
      "policy_grad_arr.requires_grad: True\n",
      "policy_constraint.requires_grad: True\n"
     ]
    },
    {
     "name": "stderr",
     "output_type": "stream",
     "text": [
      "policy learning:  98%|█████████▊| 195/200 [00:26<00:00,  8.03it/s]"
     ]
    },
    {
     "name": "stdout",
     "output_type": "stream",
     "text": [
      "193th epoch: loss_value=1.6212143898010254\n",
      "policy_grad_arr.requires_grad: True\n",
      "policy_constraint.requires_grad: True\n",
      "194th epoch: loss_value=2.0257320404052734\n",
      "policy_grad_arr.requires_grad: True\n",
      "policy_constraint.requires_grad: True\n"
     ]
    },
    {
     "name": "stderr",
     "output_type": "stream",
     "text": [
      "policy learning:  98%|█████████▊| 197/200 [00:27<00:00,  7.87it/s]"
     ]
    },
    {
     "name": "stdout",
     "output_type": "stream",
     "text": [
      "195th epoch: loss_value=1.8073492050170898\n",
      "policy_grad_arr.requires_grad: True\n",
      "policy_constraint.requires_grad: True\n",
      "196th epoch: loss_value=2.3495235443115234\n",
      "policy_grad_arr.requires_grad: True\n",
      "policy_constraint.requires_grad: True\n"
     ]
    },
    {
     "name": "stderr",
     "output_type": "stream",
     "text": [
      "policy learning: 100%|█████████▉| 199/200 [00:27<00:00,  7.81it/s]"
     ]
    },
    {
     "name": "stdout",
     "output_type": "stream",
     "text": [
      "197th epoch: loss_value=2.1596431732177734\n",
      "policy_grad_arr.requires_grad: True\n",
      "policy_constraint.requires_grad: True\n",
      "198th epoch: loss_value=2.0643703937530518\n",
      "policy_grad_arr.requires_grad: True\n",
      "policy_constraint.requires_grad: True\n"
     ]
    },
    {
     "name": "stderr",
     "output_type": "stream",
     "text": [
      "policy learning: 100%|██████████| 200/200 [00:27<00:00,  7.29it/s]\n"
     ]
    },
    {
     "name": "stdout",
     "output_type": "stream",
     "text": [
      "199th epoch: loss_value=2.3604190349578857\n",
      "policy_grad_arr.requires_grad: True\n",
      "policy_constraint.requires_grad: True\n",
      "ground_truth_policy_value_nn=0.5004697213970852\n",
      "ground_truth_policy_value_two_tower_nn=0.4938714440138003\n",
      "[LogisticRegression(max_iter=1000)]\n",
      "<class 'sklearn.linear_model._logistic.LogisticRegression'>\n",
      "{'simulate_idx': 1, 'n_rounds': 10000, 'ground_truth_policy_value': 0.7933960000000001}\n"
     ]
    }
   ],
   "source": [
    "# オフライン学習のシミュレーション\n",
    "from obp.policy import IPWLearner, NNPolicyLearner, Random, LogisticTS, BernoulliTS\n",
    "from sklearn.ensemble import GradientBoostingClassifier\n",
    "from sklearn.linear_model import LogisticRegression\n",
    "from recommender_experiments.service.opl.two_tower_nn_model import (\n",
    "    TwoTowerNNPolicyLearner,\n",
    ")\n",
    "\n",
    "\n",
    "def run_single_opl_simulation(\n",
    "    simulate_idx: int,\n",
    "    n_rounds: int,\n",
    "    n_actions: int,\n",
    "    dim_context: int,\n",
    "    action_context: np.ndarray,\n",
    "    reward_function: Callable[[np.ndarray, np.ndarray, int], np.ndarray],\n",
    "    logging_policy_function: Callable[[np.ndarray, np.ndarray, int], np.ndarray],\n",
    "    hyperparams: dict = {\"base_model\": {\"max_iter\": 1000}},\n",
    ") -> dict:\n",
    "    # データ収集方策によって集められるはずの、擬似バンディットデータの設定を定義\n",
    "    dataset = SyntheticBanditDataset(\n",
    "        n_actions=n_actions,\n",
    "        dim_context=dim_context,\n",
    "        reward_type=\"binary\",\n",
    "        reward_function=reward_function,\n",
    "        behavior_policy_function=logging_policy_function,\n",
    "        random_state=simulate_idx,\n",
    "        action_context=action_context,\n",
    "    )\n",
    "    # 学習用とテスト用のデータセットを生成\n",
    "    bandit_feedback_test = dataset.obtain_batch_bandit_feedback(n_rounds=10000)\n",
    "    bandit_feedback_train = dataset.obtain_batch_bandit_feedback(n_rounds=n_rounds)\n",
    "    new_policy = IPWLearner(\n",
    "        n_actions=n_actions,\n",
    "        base_classifier=LogisticRegression(**hyperparams[\"base_model\"]),\n",
    "    )\n",
    "\n",
    "    new_policy.fit(\n",
    "        context=bandit_feedback_train[\"context\"],\n",
    "        action=bandit_feedback_train[\"action\"],\n",
    "        reward=bandit_feedback_train[\"reward\"],\n",
    "        pscore=bandit_feedback_train[\"pscore\"],\n",
    "    )\n",
    "\n",
    "    nn_policy_learner = NNPolicyLearner(\n",
    "        n_actions=dataset.n_actions,\n",
    "        dim_context=dim_context,\n",
    "        off_policy_objective=\"ipw\",\n",
    "        hidden_layer_size=(100,),\n",
    "        activation=\"relu\",\n",
    "        solver=\"adam\",\n",
    "    )\n",
    "    # nn_policy_learner.fit(\n",
    "    #     context=bandit_feedback_train[\"context\"],\n",
    "    #     action=bandit_feedback_train[\"action\"],\n",
    "    #     reward=bandit_feedback_train[\"reward\"],\n",
    "    #     pscore=bandit_feedback_train[\"pscore\"],\n",
    "    # )\n",
    "\n",
    "    # 自作のtwo-tower NNを使った方策学習\n",
    "    two_tower_nn_policy_learner = TwoTowerNNPolicyLearner(\n",
    "        dim_context=dim_context,\n",
    "        dim_action_features=bandit_feedback_train[\"action_context\"].shape[1],\n",
    "        dim_two_tower_embedding=10,\n",
    "    )\n",
    "    two_tower_nn_policy_learner.fit(\n",
    "        context=bandit_feedback_train[\"context\"],\n",
    "        action_context=bandit_feedback_train[\"action_context\"],\n",
    "        action=bandit_feedback_train[\"action\"],\n",
    "        reward=bandit_feedback_train[\"reward\"],\n",
    "        pscore=bandit_feedback_train[\"pscore\"],\n",
    "    )\n",
    "\n",
    "    # オフライン学習した方策を使って、テストデータに対する性能を評価\n",
    "    ## 各評価方策をテスト用データセットに適用した時のアクション選択確率を算出\n",
    "    test_action_dist = new_policy.predict(context=bandit_feedback_test[\"context\"])\n",
    "    ## # 真の即時報酬の期待値を使って、各方策の真の累積報酬の期待値を算出\n",
    "    ground_truth_policy_value = dataset.calc_ground_truth_policy_value(\n",
    "        expected_reward=bandit_feedback_test[\"expected_reward\"],\n",
    "        action_dist=test_action_dist,\n",
    "    )\n",
    "\n",
    "    # NNPolicyの方も同様に評価\n",
    "    test_action_dist_nn = nn_policy_learner.predict_proba(\n",
    "        context=bandit_feedback_test[\"context\"]\n",
    "    )\n",
    "    ground_truth_policy_value_nn = dataset.calc_ground_truth_policy_value(\n",
    "        expected_reward=bandit_feedback_test[\"expected_reward\"],\n",
    "        action_dist=test_action_dist_nn,\n",
    "    )\n",
    "    print(f\"{ground_truth_policy_value_nn=}\")\n",
    "\n",
    "    # 自前のTwoTowerNNPolicyLearnerの方も同様に評価\n",
    "    test_action_dist_two_tower_nn = two_tower_nn_policy_learner.predict_proba(\n",
    "        context=bandit_feedback_test[\"context\"],\n",
    "        action_context=bandit_feedback_test[\"action_context\"],\n",
    "    )\n",
    "    ground_truth_policy_value_two_tower_nn = dataset.calc_ground_truth_policy_value(\n",
    "        expected_reward=bandit_feedback_test[\"expected_reward\"],\n",
    "        action_dist=test_action_dist_two_tower_nn,\n",
    "    )\n",
    "    print(f\"{ground_truth_policy_value_two_tower_nn=}\")\n",
    "\n",
    "    # ちなみに、これで学習した新方策のパラメータを取得できる(保存などもできる)\n",
    "    models = new_policy.base_classifier_list\n",
    "    print(\n",
    "        models\n",
    "    )  # 長さ=len_listのlist[sklearn.linear_model.LogisticRegression]が返ってくる\n",
    "    model = models[0]\n",
    "    print(type(model))\n",
    "\n",
    "    return {\n",
    "        \"simulate_idx\": simulate_idx,\n",
    "        \"n_rounds\": n_rounds,\n",
    "        \"ground_truth_policy_value\": ground_truth_policy_value,\n",
    "    }\n",
    "\n",
    "\n",
    "# シミュレーションの設定\n",
    "simulate_idx = 1\n",
    "n_rounds = 10000\n",
    "n_actions = 50\n",
    "dim_context = 3\n",
    "action_context = np.random.random((n_actions, dim_context))\n",
    "reward_function = expected_reward_function\n",
    "logging_policy_function = policy_wrapper(pi_3, mode=\"logging_policy\")\n",
    "\n",
    "\n",
    "# 1回のシミュレーションを実行\n",
    "result_dict = run_single_opl_simulation(\n",
    "    simulate_idx=simulate_idx,\n",
    "    n_rounds=n_rounds,\n",
    "    n_actions=n_actions,\n",
    "    dim_context=dim_context,\n",
    "    action_context=action_context,\n",
    "    reward_function=reward_function,\n",
    "    logging_policy_function=logging_policy_function,\n",
    ")\n",
    "print(result_dict)"
   ]
  },
  {
   "cell_type": "code",
   "execution_count": 49,
   "metadata": {},
   "outputs": [
    {
     "name": "stderr",
     "output_type": "stream",
     "text": [
      "\u001b[32m2024-12-24 17:29:51.718\u001b[0m | \u001b[1mINFO    \u001b[0m | \u001b[36m__main__\u001b[0m:\u001b[36mrun_multiple_simulations\u001b[0m:\u001b[36m28\u001b[0m - \u001b[1msimulation: logging_policy_name='pi_2', n_rounds=1000\u001b[0m\n",
      "\u001b[32m2024-12-24 17:29:51.752\u001b[0m | \u001b[1mINFO    \u001b[0m | \u001b[36m__main__\u001b[0m:\u001b[36mrun_multiple_simulations\u001b[0m:\u001b[36m28\u001b[0m - \u001b[1msimulation: logging_policy_name='pi_2', n_rounds=2000\u001b[0m\n",
      "\u001b[32m2024-12-24 17:29:51.772\u001b[0m | \u001b[1mINFO    \u001b[0m | \u001b[36m__main__\u001b[0m:\u001b[36mrun_multiple_simulations\u001b[0m:\u001b[36m28\u001b[0m - \u001b[1msimulation: logging_policy_name='pi_2', n_rounds=3000\u001b[0m\n",
      "\u001b[32m2024-12-24 17:29:51.791\u001b[0m | \u001b[1mINFO    \u001b[0m | \u001b[36m__main__\u001b[0m:\u001b[36mrun_multiple_simulations\u001b[0m:\u001b[36m28\u001b[0m - \u001b[1msimulation: logging_policy_name='pi_2', n_rounds=4000\u001b[0m\n",
      "\u001b[32m2024-12-24 17:29:51.803\u001b[0m | \u001b[1mINFO    \u001b[0m | \u001b[36m__main__\u001b[0m:\u001b[36mrun_multiple_simulations\u001b[0m:\u001b[36m28\u001b[0m - \u001b[1msimulation: logging_policy_name='pi_2', n_rounds=5000\u001b[0m\n",
      "\u001b[32m2024-12-24 17:29:51.835\u001b[0m | \u001b[1mINFO    \u001b[0m | \u001b[36m__main__\u001b[0m:\u001b[36mrun_multiple_simulations\u001b[0m:\u001b[36m28\u001b[0m - \u001b[1msimulation: logging_policy_name='pi_2', n_rounds=6000\u001b[0m\n",
      "\u001b[32m2024-12-24 17:29:51.852\u001b[0m | \u001b[1mINFO    \u001b[0m | \u001b[36m__main__\u001b[0m:\u001b[36mrun_multiple_simulations\u001b[0m:\u001b[36m28\u001b[0m - \u001b[1msimulation: logging_policy_name='pi_2', n_rounds=7000\u001b[0m\n",
      "\u001b[32m2024-12-24 17:29:51.870\u001b[0m | \u001b[1mINFO    \u001b[0m | \u001b[36m__main__\u001b[0m:\u001b[36mrun_multiple_simulations\u001b[0m:\u001b[36m28\u001b[0m - \u001b[1msimulation: logging_policy_name='pi_2', n_rounds=8000\u001b[0m\n",
      "\u001b[32m2024-12-24 17:29:51.892\u001b[0m | \u001b[1mINFO    \u001b[0m | \u001b[36m__main__\u001b[0m:\u001b[36mrun_multiple_simulations\u001b[0m:\u001b[36m28\u001b[0m - \u001b[1msimulation: logging_policy_name='pi_2', n_rounds=9000\u001b[0m\n",
      "\u001b[32m2024-12-24 17:29:51.913\u001b[0m | \u001b[1mINFO    \u001b[0m | \u001b[36m__main__\u001b[0m:\u001b[36mrun_multiple_simulations\u001b[0m:\u001b[36m28\u001b[0m - \u001b[1msimulation: logging_policy_name='pi_2', n_rounds=10000\u001b[0m\n",
      "\u001b[32m2024-12-24 17:29:51.942\u001b[0m | \u001b[1mINFO    \u001b[0m | \u001b[36m__main__\u001b[0m:\u001b[36mrun_multiple_simulations\u001b[0m:\u001b[36m28\u001b[0m - \u001b[1msimulation: logging_policy_name='pi_2', n_rounds=11000\u001b[0m\n",
      "\u001b[32m2024-12-24 17:29:51.977\u001b[0m | \u001b[1mINFO    \u001b[0m | \u001b[36m__main__\u001b[0m:\u001b[36mrun_multiple_simulations\u001b[0m:\u001b[36m28\u001b[0m - \u001b[1msimulation: logging_policy_name='pi_2', n_rounds=12000\u001b[0m\n",
      "\u001b[32m2024-12-24 17:29:52.035\u001b[0m | \u001b[1mINFO    \u001b[0m | \u001b[36m__main__\u001b[0m:\u001b[36mrun_multiple_simulations\u001b[0m:\u001b[36m28\u001b[0m - \u001b[1msimulation: logging_policy_name='pi_2', n_rounds=13000\u001b[0m\n",
      "\u001b[32m2024-12-24 17:29:52.060\u001b[0m | \u001b[1mINFO    \u001b[0m | \u001b[36m__main__\u001b[0m:\u001b[36mrun_multiple_simulations\u001b[0m:\u001b[36m28\u001b[0m - \u001b[1msimulation: logging_policy_name='pi_2', n_rounds=14000\u001b[0m\n",
      "\u001b[32m2024-12-24 17:29:52.088\u001b[0m | \u001b[1mINFO    \u001b[0m | \u001b[36m__main__\u001b[0m:\u001b[36mrun_multiple_simulations\u001b[0m:\u001b[36m28\u001b[0m - \u001b[1msimulation: logging_policy_name='pi_2', n_rounds=15000\u001b[0m\n",
      "\u001b[32m2024-12-24 17:29:52.128\u001b[0m | \u001b[1mINFO    \u001b[0m | \u001b[36m__main__\u001b[0m:\u001b[36mrun_multiple_simulations\u001b[0m:\u001b[36m28\u001b[0m - \u001b[1msimulation: logging_policy_name='pi_2', n_rounds=16000\u001b[0m\n",
      "\u001b[32m2024-12-24 17:29:52.201\u001b[0m | \u001b[1mINFO    \u001b[0m | \u001b[36m__main__\u001b[0m:\u001b[36mrun_multiple_simulations\u001b[0m:\u001b[36m28\u001b[0m - \u001b[1msimulation: logging_policy_name='pi_2', n_rounds=17000\u001b[0m\n",
      "\u001b[32m2024-12-24 17:29:52.277\u001b[0m | \u001b[1mINFO    \u001b[0m | \u001b[36m__main__\u001b[0m:\u001b[36mrun_multiple_simulations\u001b[0m:\u001b[36m28\u001b[0m - \u001b[1msimulation: logging_policy_name='pi_2', n_rounds=18000\u001b[0m\n",
      "\u001b[32m2024-12-24 17:29:52.319\u001b[0m | \u001b[1mINFO    \u001b[0m | \u001b[36m__main__\u001b[0m:\u001b[36mrun_multiple_simulations\u001b[0m:\u001b[36m28\u001b[0m - \u001b[1msimulation: logging_policy_name='pi_2', n_rounds=19000\u001b[0m\n",
      "\u001b[32m2024-12-24 17:29:52.427\u001b[0m | \u001b[1mINFO    \u001b[0m | \u001b[36m__main__\u001b[0m:\u001b[36mrun_multiple_simulations\u001b[0m:\u001b[36m28\u001b[0m - \u001b[1msimulation: logging_policy_name='pi_2', n_rounds=20000\u001b[0m\n",
      "\u001b[32m2024-12-24 17:29:52.469\u001b[0m | \u001b[1mINFO    \u001b[0m | \u001b[36m__main__\u001b[0m:\u001b[36mrun_multiple_simulations\u001b[0m:\u001b[36m28\u001b[0m - \u001b[1msimulation: logging_policy_name='pi_2', n_rounds=21000\u001b[0m\n",
      "\u001b[32m2024-12-24 17:29:52.515\u001b[0m | \u001b[1mINFO    \u001b[0m | \u001b[36m__main__\u001b[0m:\u001b[36mrun_multiple_simulations\u001b[0m:\u001b[36m28\u001b[0m - \u001b[1msimulation: logging_policy_name='pi_2', n_rounds=22000\u001b[0m\n",
      "\u001b[32m2024-12-24 17:29:52.566\u001b[0m | \u001b[1mINFO    \u001b[0m | \u001b[36m__main__\u001b[0m:\u001b[36mrun_multiple_simulations\u001b[0m:\u001b[36m28\u001b[0m - \u001b[1msimulation: logging_policy_name='pi_2', n_rounds=23000\u001b[0m\n",
      "\u001b[32m2024-12-24 17:29:52.610\u001b[0m | \u001b[1mINFO    \u001b[0m | \u001b[36m__main__\u001b[0m:\u001b[36mrun_multiple_simulations\u001b[0m:\u001b[36m28\u001b[0m - \u001b[1msimulation: logging_policy_name='pi_2', n_rounds=24000\u001b[0m\n",
      "\u001b[32m2024-12-24 17:29:52.657\u001b[0m | \u001b[1mINFO    \u001b[0m | \u001b[36m__main__\u001b[0m:\u001b[36mrun_multiple_simulations\u001b[0m:\u001b[36m28\u001b[0m - \u001b[1msimulation: logging_policy_name='pi_2', n_rounds=25000\u001b[0m\n",
      "\u001b[32m2024-12-24 17:29:52.701\u001b[0m | \u001b[1mINFO    \u001b[0m | \u001b[36m__main__\u001b[0m:\u001b[36mrun_multiple_simulations\u001b[0m:\u001b[36m28\u001b[0m - \u001b[1msimulation: logging_policy_name='pi_2', n_rounds=26000\u001b[0m\n",
      "\u001b[32m2024-12-24 17:29:52.748\u001b[0m | \u001b[1mINFO    \u001b[0m | \u001b[36m__main__\u001b[0m:\u001b[36mrun_multiple_simulations\u001b[0m:\u001b[36m28\u001b[0m - \u001b[1msimulation: logging_policy_name='pi_2', n_rounds=27000\u001b[0m\n",
      "\u001b[32m2024-12-24 17:29:52.791\u001b[0m | \u001b[1mINFO    \u001b[0m | \u001b[36m__main__\u001b[0m:\u001b[36mrun_multiple_simulations\u001b[0m:\u001b[36m28\u001b[0m - \u001b[1msimulation: logging_policy_name='pi_2', n_rounds=28000\u001b[0m\n",
      "\u001b[32m2024-12-24 17:29:52.835\u001b[0m | \u001b[1mINFO    \u001b[0m | \u001b[36m__main__\u001b[0m:\u001b[36mrun_multiple_simulations\u001b[0m:\u001b[36m28\u001b[0m - \u001b[1msimulation: logging_policy_name='pi_2', n_rounds=29000\u001b[0m\n",
      "\u001b[32m2024-12-24 17:29:52.878\u001b[0m | \u001b[1mINFO    \u001b[0m | \u001b[36m__main__\u001b[0m:\u001b[36mrun_multiple_simulations\u001b[0m:\u001b[36m28\u001b[0m - \u001b[1msimulation: logging_policy_name='pi_2', n_rounds=30000\u001b[0m\n",
      "\u001b[32m2024-12-24 17:29:52.967\u001b[0m | \u001b[1mINFO    \u001b[0m | \u001b[36m__main__\u001b[0m:\u001b[36mrun_multiple_simulations\u001b[0m:\u001b[36m28\u001b[0m - \u001b[1msimulation: logging_policy_name='pi_2', n_rounds=31000\u001b[0m\n",
      "\u001b[32m2024-12-24 17:29:53.048\u001b[0m | \u001b[1mINFO    \u001b[0m | \u001b[36m__main__\u001b[0m:\u001b[36mrun_multiple_simulations\u001b[0m:\u001b[36m28\u001b[0m - \u001b[1msimulation: logging_policy_name='pi_2', n_rounds=32000\u001b[0m\n",
      "\u001b[32m2024-12-24 17:29:53.103\u001b[0m | \u001b[1mINFO    \u001b[0m | \u001b[36m__main__\u001b[0m:\u001b[36mrun_multiple_simulations\u001b[0m:\u001b[36m28\u001b[0m - \u001b[1msimulation: logging_policy_name='pi_2', n_rounds=33000\u001b[0m\n",
      "\u001b[32m2024-12-24 17:29:53.161\u001b[0m | \u001b[1mINFO    \u001b[0m | \u001b[36m__main__\u001b[0m:\u001b[36mrun_multiple_simulations\u001b[0m:\u001b[36m28\u001b[0m - \u001b[1msimulation: logging_policy_name='pi_2', n_rounds=34000\u001b[0m\n",
      "\u001b[32m2024-12-24 17:29:53.234\u001b[0m | \u001b[1mINFO    \u001b[0m | \u001b[36m__main__\u001b[0m:\u001b[36mrun_multiple_simulations\u001b[0m:\u001b[36m28\u001b[0m - \u001b[1msimulation: logging_policy_name='pi_2', n_rounds=35000\u001b[0m\n",
      "\u001b[32m2024-12-24 17:29:53.295\u001b[0m | \u001b[1mINFO    \u001b[0m | \u001b[36m__main__\u001b[0m:\u001b[36mrun_multiple_simulations\u001b[0m:\u001b[36m28\u001b[0m - \u001b[1msimulation: logging_policy_name='pi_2', n_rounds=36000\u001b[0m\n",
      "\u001b[32m2024-12-24 17:29:53.386\u001b[0m | \u001b[1mINFO    \u001b[0m | \u001b[36m__main__\u001b[0m:\u001b[36mrun_multiple_simulations\u001b[0m:\u001b[36m28\u001b[0m - \u001b[1msimulation: logging_policy_name='pi_2', n_rounds=37000\u001b[0m\n",
      "\u001b[32m2024-12-24 17:29:53.481\u001b[0m | \u001b[1mINFO    \u001b[0m | \u001b[36m__main__\u001b[0m:\u001b[36mrun_multiple_simulations\u001b[0m:\u001b[36m28\u001b[0m - \u001b[1msimulation: logging_policy_name='pi_2', n_rounds=38000\u001b[0m\n",
      "\u001b[32m2024-12-24 17:29:53.555\u001b[0m | \u001b[1mINFO    \u001b[0m | \u001b[36m__main__\u001b[0m:\u001b[36mrun_multiple_simulations\u001b[0m:\u001b[36m28\u001b[0m - \u001b[1msimulation: logging_policy_name='pi_2', n_rounds=39000\u001b[0m\n",
      "\u001b[32m2024-12-24 17:29:53.610\u001b[0m | \u001b[1mINFO    \u001b[0m | \u001b[36m__main__\u001b[0m:\u001b[36mrun_multiple_simulations\u001b[0m:\u001b[36m28\u001b[0m - \u001b[1msimulation: logging_policy_name='pi_2', n_rounds=40000\u001b[0m\n",
      "\u001b[32m2024-12-24 17:29:53.670\u001b[0m | \u001b[1mINFO    \u001b[0m | \u001b[36m__main__\u001b[0m:\u001b[36mrun_multiple_simulations\u001b[0m:\u001b[36m28\u001b[0m - \u001b[1msimulation: logging_policy_name='pi_2', n_rounds=41000\u001b[0m\n",
      "\u001b[32m2024-12-24 17:29:53.731\u001b[0m | \u001b[1mINFO    \u001b[0m | \u001b[36m__main__\u001b[0m:\u001b[36mrun_multiple_simulations\u001b[0m:\u001b[36m28\u001b[0m - \u001b[1msimulation: logging_policy_name='pi_2', n_rounds=42000\u001b[0m\n",
      "\u001b[32m2024-12-24 17:29:53.793\u001b[0m | \u001b[1mINFO    \u001b[0m | \u001b[36m__main__\u001b[0m:\u001b[36mrun_multiple_simulations\u001b[0m:\u001b[36m28\u001b[0m - \u001b[1msimulation: logging_policy_name='pi_2', n_rounds=43000\u001b[0m\n",
      "\u001b[32m2024-12-24 17:29:53.853\u001b[0m | \u001b[1mINFO    \u001b[0m | \u001b[36m__main__\u001b[0m:\u001b[36mrun_multiple_simulations\u001b[0m:\u001b[36m28\u001b[0m - \u001b[1msimulation: logging_policy_name='pi_2', n_rounds=44000\u001b[0m\n",
      "\u001b[32m2024-12-24 17:29:53.913\u001b[0m | \u001b[1mINFO    \u001b[0m | \u001b[36m__main__\u001b[0m:\u001b[36mrun_multiple_simulations\u001b[0m:\u001b[36m28\u001b[0m - \u001b[1msimulation: logging_policy_name='pi_2', n_rounds=45000\u001b[0m\n",
      "\u001b[32m2024-12-24 17:29:53.964\u001b[0m | \u001b[1mINFO    \u001b[0m | \u001b[36m__main__\u001b[0m:\u001b[36mrun_multiple_simulations\u001b[0m:\u001b[36m28\u001b[0m - \u001b[1msimulation: logging_policy_name='pi_2', n_rounds=46000\u001b[0m\n",
      "\u001b[32m2024-12-24 17:29:54.015\u001b[0m | \u001b[1mINFO    \u001b[0m | \u001b[36m__main__\u001b[0m:\u001b[36mrun_multiple_simulations\u001b[0m:\u001b[36m28\u001b[0m - \u001b[1msimulation: logging_policy_name='pi_2', n_rounds=47000\u001b[0m\n",
      "\u001b[32m2024-12-24 17:29:54.082\u001b[0m | \u001b[1mINFO    \u001b[0m | \u001b[36m__main__\u001b[0m:\u001b[36mrun_multiple_simulations\u001b[0m:\u001b[36m28\u001b[0m - \u001b[1msimulation: logging_policy_name='pi_2', n_rounds=48000\u001b[0m\n",
      "\u001b[32m2024-12-24 17:29:54.152\u001b[0m | \u001b[1mINFO    \u001b[0m | \u001b[36m__main__\u001b[0m:\u001b[36mrun_multiple_simulations\u001b[0m:\u001b[36m28\u001b[0m - \u001b[1msimulation: logging_policy_name='pi_2', n_rounds=49000\u001b[0m\n",
      "\u001b[32m2024-12-24 17:29:54.203\u001b[0m | \u001b[1mINFO    \u001b[0m | \u001b[36m__main__\u001b[0m:\u001b[36mrun_multiple_simulations\u001b[0m:\u001b[36m28\u001b[0m - \u001b[1msimulation: logging_policy_name='pi_3', n_rounds=1000\u001b[0m\n",
      "\u001b[32m2024-12-24 17:29:54.291\u001b[0m | \u001b[1mINFO    \u001b[0m | \u001b[36m__main__\u001b[0m:\u001b[36mrun_multiple_simulations\u001b[0m:\u001b[36m28\u001b[0m - \u001b[1msimulation: logging_policy_name='pi_3', n_rounds=2000\u001b[0m\n",
      "\u001b[32m2024-12-24 17:29:54.329\u001b[0m | \u001b[1mINFO    \u001b[0m | \u001b[36m__main__\u001b[0m:\u001b[36mrun_multiple_simulations\u001b[0m:\u001b[36m28\u001b[0m - \u001b[1msimulation: logging_policy_name='pi_3', n_rounds=3000\u001b[0m\n",
      "\u001b[32m2024-12-24 17:29:54.377\u001b[0m | \u001b[1mINFO    \u001b[0m | \u001b[36m__main__\u001b[0m:\u001b[36mrun_multiple_simulations\u001b[0m:\u001b[36m28\u001b[0m - \u001b[1msimulation: logging_policy_name='pi_3', n_rounds=4000\u001b[0m\n",
      "\u001b[32m2024-12-24 17:29:54.478\u001b[0m | \u001b[1mINFO    \u001b[0m | \u001b[36m__main__\u001b[0m:\u001b[36mrun_multiple_simulations\u001b[0m:\u001b[36m28\u001b[0m - \u001b[1msimulation: logging_policy_name='pi_3', n_rounds=5000\u001b[0m\n",
      "\u001b[32m2024-12-24 17:29:54.565\u001b[0m | \u001b[1mINFO    \u001b[0m | \u001b[36m__main__\u001b[0m:\u001b[36mrun_multiple_simulations\u001b[0m:\u001b[36m28\u001b[0m - \u001b[1msimulation: logging_policy_name='pi_3', n_rounds=6000\u001b[0m\n",
      "\u001b[32m2024-12-24 17:29:54.661\u001b[0m | \u001b[1mINFO    \u001b[0m | \u001b[36m__main__\u001b[0m:\u001b[36mrun_multiple_simulations\u001b[0m:\u001b[36m28\u001b[0m - \u001b[1msimulation: logging_policy_name='pi_3', n_rounds=7000\u001b[0m\n",
      "\u001b[32m2024-12-24 17:29:54.735\u001b[0m | \u001b[1mINFO    \u001b[0m | \u001b[36m__main__\u001b[0m:\u001b[36mrun_multiple_simulations\u001b[0m:\u001b[36m28\u001b[0m - \u001b[1msimulation: logging_policy_name='pi_3', n_rounds=8000\u001b[0m\n",
      "\u001b[32m2024-12-24 17:29:54.839\u001b[0m | \u001b[1mINFO    \u001b[0m | \u001b[36m__main__\u001b[0m:\u001b[36mrun_multiple_simulations\u001b[0m:\u001b[36m28\u001b[0m - \u001b[1msimulation: logging_policy_name='pi_3', n_rounds=9000\u001b[0m\n",
      "\u001b[32m2024-12-24 17:29:54.934\u001b[0m | \u001b[1mINFO    \u001b[0m | \u001b[36m__main__\u001b[0m:\u001b[36mrun_multiple_simulations\u001b[0m:\u001b[36m28\u001b[0m - \u001b[1msimulation: logging_policy_name='pi_3', n_rounds=10000\u001b[0m\n",
      "\u001b[32m2024-12-24 17:29:55.053\u001b[0m | \u001b[1mINFO    \u001b[0m | \u001b[36m__main__\u001b[0m:\u001b[36mrun_multiple_simulations\u001b[0m:\u001b[36m28\u001b[0m - \u001b[1msimulation: logging_policy_name='pi_3', n_rounds=11000\u001b[0m\n",
      "\u001b[32m2024-12-24 17:29:55.169\u001b[0m | \u001b[1mINFO    \u001b[0m | \u001b[36m__main__\u001b[0m:\u001b[36mrun_multiple_simulations\u001b[0m:\u001b[36m28\u001b[0m - \u001b[1msimulation: logging_policy_name='pi_3', n_rounds=12000\u001b[0m\n",
      "\u001b[32m2024-12-24 17:29:55.299\u001b[0m | \u001b[1mINFO    \u001b[0m | \u001b[36m__main__\u001b[0m:\u001b[36mrun_multiple_simulations\u001b[0m:\u001b[36m28\u001b[0m - \u001b[1msimulation: logging_policy_name='pi_3', n_rounds=13000\u001b[0m\n",
      "\u001b[32m2024-12-24 17:29:55.422\u001b[0m | \u001b[1mINFO    \u001b[0m | \u001b[36m__main__\u001b[0m:\u001b[36mrun_multiple_simulations\u001b[0m:\u001b[36m28\u001b[0m - \u001b[1msimulation: logging_policy_name='pi_3', n_rounds=14000\u001b[0m\n",
      "\u001b[32m2024-12-24 17:29:55.572\u001b[0m | \u001b[1mINFO    \u001b[0m | \u001b[36m__main__\u001b[0m:\u001b[36mrun_multiple_simulations\u001b[0m:\u001b[36m28\u001b[0m - \u001b[1msimulation: logging_policy_name='pi_3', n_rounds=15000\u001b[0m\n",
      "\u001b[32m2024-12-24 17:29:55.772\u001b[0m | \u001b[1mINFO    \u001b[0m | \u001b[36m__main__\u001b[0m:\u001b[36mrun_multiple_simulations\u001b[0m:\u001b[36m28\u001b[0m - \u001b[1msimulation: logging_policy_name='pi_3', n_rounds=16000\u001b[0m\n",
      "\u001b[32m2024-12-24 17:29:56.009\u001b[0m | \u001b[1mINFO    \u001b[0m | \u001b[36m__main__\u001b[0m:\u001b[36mrun_multiple_simulations\u001b[0m:\u001b[36m28\u001b[0m - \u001b[1msimulation: logging_policy_name='pi_3', n_rounds=17000\u001b[0m\n",
      "\u001b[32m2024-12-24 17:29:56.208\u001b[0m | \u001b[1mINFO    \u001b[0m | \u001b[36m__main__\u001b[0m:\u001b[36mrun_multiple_simulations\u001b[0m:\u001b[36m28\u001b[0m - \u001b[1msimulation: logging_policy_name='pi_3', n_rounds=18000\u001b[0m\n",
      "\u001b[32m2024-12-24 17:29:56.662\u001b[0m | \u001b[1mINFO    \u001b[0m | \u001b[36m__main__\u001b[0m:\u001b[36mrun_multiple_simulations\u001b[0m:\u001b[36m28\u001b[0m - \u001b[1msimulation: logging_policy_name='pi_3', n_rounds=19000\u001b[0m\n",
      "\u001b[32m2024-12-24 17:29:56.784\u001b[0m | \u001b[1mINFO    \u001b[0m | \u001b[36m__main__\u001b[0m:\u001b[36mrun_multiple_simulations\u001b[0m:\u001b[36m28\u001b[0m - \u001b[1msimulation: logging_policy_name='pi_3', n_rounds=20000\u001b[0m\n",
      "\u001b[32m2024-12-24 17:29:56.950\u001b[0m | \u001b[1mINFO    \u001b[0m | \u001b[36m__main__\u001b[0m:\u001b[36mrun_multiple_simulations\u001b[0m:\u001b[36m28\u001b[0m - \u001b[1msimulation: logging_policy_name='pi_3', n_rounds=21000\u001b[0m\n",
      "\u001b[32m2024-12-24 17:29:57.112\u001b[0m | \u001b[1mINFO    \u001b[0m | \u001b[36m__main__\u001b[0m:\u001b[36mrun_multiple_simulations\u001b[0m:\u001b[36m28\u001b[0m - \u001b[1msimulation: logging_policy_name='pi_3', n_rounds=22000\u001b[0m\n",
      "\u001b[32m2024-12-24 17:29:57.254\u001b[0m | \u001b[1mINFO    \u001b[0m | \u001b[36m__main__\u001b[0m:\u001b[36mrun_multiple_simulations\u001b[0m:\u001b[36m28\u001b[0m - \u001b[1msimulation: logging_policy_name='pi_3', n_rounds=23000\u001b[0m\n",
      "\u001b[32m2024-12-24 17:29:57.449\u001b[0m | \u001b[1mINFO    \u001b[0m | \u001b[36m__main__\u001b[0m:\u001b[36mrun_multiple_simulations\u001b[0m:\u001b[36m28\u001b[0m - \u001b[1msimulation: logging_policy_name='pi_3', n_rounds=24000\u001b[0m\n",
      "\u001b[32m2024-12-24 17:29:57.630\u001b[0m | \u001b[1mINFO    \u001b[0m | \u001b[36m__main__\u001b[0m:\u001b[36mrun_multiple_simulations\u001b[0m:\u001b[36m28\u001b[0m - \u001b[1msimulation: logging_policy_name='pi_3', n_rounds=25000\u001b[0m\n",
      "\u001b[32m2024-12-24 17:29:57.792\u001b[0m | \u001b[1mINFO    \u001b[0m | \u001b[36m__main__\u001b[0m:\u001b[36mrun_multiple_simulations\u001b[0m:\u001b[36m28\u001b[0m - \u001b[1msimulation: logging_policy_name='pi_3', n_rounds=26000\u001b[0m\n",
      "\u001b[32m2024-12-24 17:29:58.075\u001b[0m | \u001b[1mINFO    \u001b[0m | \u001b[36m__main__\u001b[0m:\u001b[36mrun_multiple_simulations\u001b[0m:\u001b[36m28\u001b[0m - \u001b[1msimulation: logging_policy_name='pi_3', n_rounds=27000\u001b[0m\n",
      "\u001b[32m2024-12-24 17:29:58.264\u001b[0m | \u001b[1mINFO    \u001b[0m | \u001b[36m__main__\u001b[0m:\u001b[36mrun_multiple_simulations\u001b[0m:\u001b[36m28\u001b[0m - \u001b[1msimulation: logging_policy_name='pi_3', n_rounds=28000\u001b[0m\n",
      "\u001b[32m2024-12-24 17:29:58.461\u001b[0m | \u001b[1mINFO    \u001b[0m | \u001b[36m__main__\u001b[0m:\u001b[36mrun_multiple_simulations\u001b[0m:\u001b[36m28\u001b[0m - \u001b[1msimulation: logging_policy_name='pi_3', n_rounds=29000\u001b[0m\n",
      "\u001b[32m2024-12-24 17:29:58.654\u001b[0m | \u001b[1mINFO    \u001b[0m | \u001b[36m__main__\u001b[0m:\u001b[36mrun_multiple_simulations\u001b[0m:\u001b[36m28\u001b[0m - \u001b[1msimulation: logging_policy_name='pi_3', n_rounds=30000\u001b[0m\n",
      "\u001b[32m2024-12-24 17:29:58.851\u001b[0m | \u001b[1mINFO    \u001b[0m | \u001b[36m__main__\u001b[0m:\u001b[36mrun_multiple_simulations\u001b[0m:\u001b[36m28\u001b[0m - \u001b[1msimulation: logging_policy_name='pi_3', n_rounds=31000\u001b[0m\n",
      "\u001b[32m2024-12-24 17:29:59.061\u001b[0m | \u001b[1mINFO    \u001b[0m | \u001b[36m__main__\u001b[0m:\u001b[36mrun_multiple_simulations\u001b[0m:\u001b[36m28\u001b[0m - \u001b[1msimulation: logging_policy_name='pi_3', n_rounds=32000\u001b[0m\n",
      "\u001b[32m2024-12-24 17:29:59.286\u001b[0m | \u001b[1mINFO    \u001b[0m | \u001b[36m__main__\u001b[0m:\u001b[36mrun_multiple_simulations\u001b[0m:\u001b[36m28\u001b[0m - \u001b[1msimulation: logging_policy_name='pi_3', n_rounds=33000\u001b[0m\n",
      "\u001b[32m2024-12-24 17:29:59.516\u001b[0m | \u001b[1mINFO    \u001b[0m | \u001b[36m__main__\u001b[0m:\u001b[36mrun_multiple_simulations\u001b[0m:\u001b[36m28\u001b[0m - \u001b[1msimulation: logging_policy_name='pi_3', n_rounds=34000\u001b[0m\n",
      "\u001b[32m2024-12-24 17:29:59.713\u001b[0m | \u001b[1mINFO    \u001b[0m | \u001b[36m__main__\u001b[0m:\u001b[36mrun_multiple_simulations\u001b[0m:\u001b[36m28\u001b[0m - \u001b[1msimulation: logging_policy_name='pi_3', n_rounds=35000\u001b[0m\n",
      "\u001b[32m2024-12-24 17:29:59.971\u001b[0m | \u001b[1mINFO    \u001b[0m | \u001b[36m__main__\u001b[0m:\u001b[36mrun_multiple_simulations\u001b[0m:\u001b[36m28\u001b[0m - \u001b[1msimulation: logging_policy_name='pi_3', n_rounds=36000\u001b[0m\n",
      "\u001b[32m2024-12-24 17:30:00.226\u001b[0m | \u001b[1mINFO    \u001b[0m | \u001b[36m__main__\u001b[0m:\u001b[36mrun_multiple_simulations\u001b[0m:\u001b[36m28\u001b[0m - \u001b[1msimulation: logging_policy_name='pi_3', n_rounds=37000\u001b[0m\n",
      "\u001b[32m2024-12-24 17:30:00.454\u001b[0m | \u001b[1mINFO    \u001b[0m | \u001b[36m__main__\u001b[0m:\u001b[36mrun_multiple_simulations\u001b[0m:\u001b[36m28\u001b[0m - \u001b[1msimulation: logging_policy_name='pi_3', n_rounds=38000\u001b[0m\n",
      "\u001b[32m2024-12-24 17:30:00.702\u001b[0m | \u001b[1mINFO    \u001b[0m | \u001b[36m__main__\u001b[0m:\u001b[36mrun_multiple_simulations\u001b[0m:\u001b[36m28\u001b[0m - \u001b[1msimulation: logging_policy_name='pi_3', n_rounds=39000\u001b[0m\n",
      "\u001b[32m2024-12-24 17:30:00.977\u001b[0m | \u001b[1mINFO    \u001b[0m | \u001b[36m__main__\u001b[0m:\u001b[36mrun_multiple_simulations\u001b[0m:\u001b[36m28\u001b[0m - \u001b[1msimulation: logging_policy_name='pi_3', n_rounds=40000\u001b[0m\n",
      "\u001b[32m2024-12-24 17:30:01.235\u001b[0m | \u001b[1mINFO    \u001b[0m | \u001b[36m__main__\u001b[0m:\u001b[36mrun_multiple_simulations\u001b[0m:\u001b[36m28\u001b[0m - \u001b[1msimulation: logging_policy_name='pi_3', n_rounds=41000\u001b[0m\n",
      "\u001b[32m2024-12-24 17:30:01.521\u001b[0m | \u001b[1mINFO    \u001b[0m | \u001b[36m__main__\u001b[0m:\u001b[36mrun_multiple_simulations\u001b[0m:\u001b[36m28\u001b[0m - \u001b[1msimulation: logging_policy_name='pi_3', n_rounds=42000\u001b[0m\n",
      "\u001b[32m2024-12-24 17:30:01.823\u001b[0m | \u001b[1mINFO    \u001b[0m | \u001b[36m__main__\u001b[0m:\u001b[36mrun_multiple_simulations\u001b[0m:\u001b[36m28\u001b[0m - \u001b[1msimulation: logging_policy_name='pi_3', n_rounds=43000\u001b[0m\n",
      "\u001b[32m2024-12-24 17:30:02.102\u001b[0m | \u001b[1mINFO    \u001b[0m | \u001b[36m__main__\u001b[0m:\u001b[36mrun_multiple_simulations\u001b[0m:\u001b[36m28\u001b[0m - \u001b[1msimulation: logging_policy_name='pi_3', n_rounds=44000\u001b[0m\n",
      "\u001b[32m2024-12-24 17:30:02.388\u001b[0m | \u001b[1mINFO    \u001b[0m | \u001b[36m__main__\u001b[0m:\u001b[36mrun_multiple_simulations\u001b[0m:\u001b[36m28\u001b[0m - \u001b[1msimulation: logging_policy_name='pi_3', n_rounds=45000\u001b[0m\n",
      "\u001b[32m2024-12-24 17:30:02.684\u001b[0m | \u001b[1mINFO    \u001b[0m | \u001b[36m__main__\u001b[0m:\u001b[36mrun_multiple_simulations\u001b[0m:\u001b[36m28\u001b[0m - \u001b[1msimulation: logging_policy_name='pi_3', n_rounds=46000\u001b[0m\n",
      "\u001b[32m2024-12-24 17:30:02.995\u001b[0m | \u001b[1mINFO    \u001b[0m | \u001b[36m__main__\u001b[0m:\u001b[36mrun_multiple_simulations\u001b[0m:\u001b[36m28\u001b[0m - \u001b[1msimulation: logging_policy_name='pi_3', n_rounds=47000\u001b[0m\n",
      "\u001b[32m2024-12-24 17:30:03.329\u001b[0m | \u001b[1mINFO    \u001b[0m | \u001b[36m__main__\u001b[0m:\u001b[36mrun_multiple_simulations\u001b[0m:\u001b[36m28\u001b[0m - \u001b[1msimulation: logging_policy_name='pi_3', n_rounds=48000\u001b[0m\n",
      "\u001b[32m2024-12-24 17:30:03.588\u001b[0m | \u001b[1mINFO    \u001b[0m | \u001b[36m__main__\u001b[0m:\u001b[36mrun_multiple_simulations\u001b[0m:\u001b[36m28\u001b[0m - \u001b[1msimulation: logging_policy_name='pi_3', n_rounds=49000\u001b[0m\n",
      "\u001b[32m2024-12-24 17:30:03.851\u001b[0m | \u001b[1mINFO    \u001b[0m | \u001b[36m__main__\u001b[0m:\u001b[36mrun_multiple_simulations\u001b[0m:\u001b[36m28\u001b[0m - \u001b[1msimulation: logging_policy_name='pi_4', n_rounds=1000\u001b[0m\n",
      "\u001b[32m2024-12-24 17:30:03.876\u001b[0m | \u001b[1mINFO    \u001b[0m | \u001b[36m__main__\u001b[0m:\u001b[36mrun_multiple_simulations\u001b[0m:\u001b[36m28\u001b[0m - \u001b[1msimulation: logging_policy_name='pi_4', n_rounds=2000\u001b[0m\n",
      "\u001b[32m2024-12-24 17:30:03.925\u001b[0m | \u001b[1mINFO    \u001b[0m | \u001b[36m__main__\u001b[0m:\u001b[36mrun_multiple_simulations\u001b[0m:\u001b[36m28\u001b[0m - \u001b[1msimulation: logging_policy_name='pi_4', n_rounds=3000\u001b[0m\n",
      "\u001b[32m2024-12-24 17:30:03.968\u001b[0m | \u001b[1mINFO    \u001b[0m | \u001b[36m__main__\u001b[0m:\u001b[36mrun_multiple_simulations\u001b[0m:\u001b[36m28\u001b[0m - \u001b[1msimulation: logging_policy_name='pi_4', n_rounds=4000\u001b[0m\n",
      "\u001b[32m2024-12-24 17:30:04.101\u001b[0m | \u001b[1mINFO    \u001b[0m | \u001b[36m__main__\u001b[0m:\u001b[36mrun_multiple_simulations\u001b[0m:\u001b[36m28\u001b[0m - \u001b[1msimulation: logging_policy_name='pi_4', n_rounds=5000\u001b[0m\n",
      "\u001b[32m2024-12-24 17:30:04.254\u001b[0m | \u001b[1mINFO    \u001b[0m | \u001b[36m__main__\u001b[0m:\u001b[36mrun_multiple_simulations\u001b[0m:\u001b[36m28\u001b[0m - \u001b[1msimulation: logging_policy_name='pi_4', n_rounds=6000\u001b[0m\n",
      "\u001b[32m2024-12-24 17:30:04.440\u001b[0m | \u001b[1mINFO    \u001b[0m | \u001b[36m__main__\u001b[0m:\u001b[36mrun_multiple_simulations\u001b[0m:\u001b[36m28\u001b[0m - \u001b[1msimulation: logging_policy_name='pi_4', n_rounds=7000\u001b[0m\n",
      "\u001b[32m2024-12-24 17:30:04.698\u001b[0m | \u001b[1mINFO    \u001b[0m | \u001b[36m__main__\u001b[0m:\u001b[36mrun_multiple_simulations\u001b[0m:\u001b[36m28\u001b[0m - \u001b[1msimulation: logging_policy_name='pi_4', n_rounds=8000\u001b[0m\n",
      "\u001b[32m2024-12-24 17:30:04.905\u001b[0m | \u001b[1mINFO    \u001b[0m | \u001b[36m__main__\u001b[0m:\u001b[36mrun_multiple_simulations\u001b[0m:\u001b[36m28\u001b[0m - \u001b[1msimulation: logging_policy_name='pi_4', n_rounds=9000\u001b[0m\n",
      "\u001b[32m2024-12-24 17:30:05.179\u001b[0m | \u001b[1mINFO    \u001b[0m | \u001b[36m__main__\u001b[0m:\u001b[36mrun_multiple_simulations\u001b[0m:\u001b[36m28\u001b[0m - \u001b[1msimulation: logging_policy_name='pi_4', n_rounds=10000\u001b[0m\n",
      "\u001b[32m2024-12-24 17:30:05.484\u001b[0m | \u001b[1mINFO    \u001b[0m | \u001b[36m__main__\u001b[0m:\u001b[36mrun_multiple_simulations\u001b[0m:\u001b[36m28\u001b[0m - \u001b[1msimulation: logging_policy_name='pi_4', n_rounds=11000\u001b[0m\n",
      "\u001b[32m2024-12-24 17:30:05.784\u001b[0m | \u001b[1mINFO    \u001b[0m | \u001b[36m__main__\u001b[0m:\u001b[36mrun_multiple_simulations\u001b[0m:\u001b[36m28\u001b[0m - \u001b[1msimulation: logging_policy_name='pi_4', n_rounds=12000\u001b[0m\n",
      "\u001b[32m2024-12-24 17:30:06.136\u001b[0m | \u001b[1mINFO    \u001b[0m | \u001b[36m__main__\u001b[0m:\u001b[36mrun_multiple_simulations\u001b[0m:\u001b[36m28\u001b[0m - \u001b[1msimulation: logging_policy_name='pi_4', n_rounds=13000\u001b[0m\n",
      "\u001b[32m2024-12-24 17:30:06.495\u001b[0m | \u001b[1mINFO    \u001b[0m | \u001b[36m__main__\u001b[0m:\u001b[36mrun_multiple_simulations\u001b[0m:\u001b[36m28\u001b[0m - \u001b[1msimulation: logging_policy_name='pi_4', n_rounds=14000\u001b[0m\n",
      "\u001b[32m2024-12-24 17:30:06.971\u001b[0m | \u001b[1mINFO    \u001b[0m | \u001b[36m__main__\u001b[0m:\u001b[36mrun_multiple_simulations\u001b[0m:\u001b[36m28\u001b[0m - \u001b[1msimulation: logging_policy_name='pi_4', n_rounds=15000\u001b[0m\n",
      "\u001b[32m2024-12-24 17:30:07.302\u001b[0m | \u001b[1mINFO    \u001b[0m | \u001b[36m__main__\u001b[0m:\u001b[36mrun_multiple_simulations\u001b[0m:\u001b[36m28\u001b[0m - \u001b[1msimulation: logging_policy_name='pi_4', n_rounds=16000\u001b[0m\n",
      "\u001b[32m2024-12-24 17:30:07.662\u001b[0m | \u001b[1mINFO    \u001b[0m | \u001b[36m__main__\u001b[0m:\u001b[36mrun_multiple_simulations\u001b[0m:\u001b[36m28\u001b[0m - \u001b[1msimulation: logging_policy_name='pi_4', n_rounds=17000\u001b[0m\n",
      "\u001b[32m2024-12-24 17:30:08.100\u001b[0m | \u001b[1mINFO    \u001b[0m | \u001b[36m__main__\u001b[0m:\u001b[36mrun_multiple_simulations\u001b[0m:\u001b[36m28\u001b[0m - \u001b[1msimulation: logging_policy_name='pi_4', n_rounds=18000\u001b[0m\n",
      "\u001b[32m2024-12-24 17:30:08.560\u001b[0m | \u001b[1mINFO    \u001b[0m | \u001b[36m__main__\u001b[0m:\u001b[36mrun_multiple_simulations\u001b[0m:\u001b[36m28\u001b[0m - \u001b[1msimulation: logging_policy_name='pi_4', n_rounds=19000\u001b[0m\n",
      "\u001b[32m2024-12-24 17:30:09.000\u001b[0m | \u001b[1mINFO    \u001b[0m | \u001b[36m__main__\u001b[0m:\u001b[36mrun_multiple_simulations\u001b[0m:\u001b[36m28\u001b[0m - \u001b[1msimulation: logging_policy_name='pi_4', n_rounds=20000\u001b[0m\n",
      "\u001b[32m2024-12-24 17:30:09.581\u001b[0m | \u001b[1mINFO    \u001b[0m | \u001b[36m__main__\u001b[0m:\u001b[36mrun_multiple_simulations\u001b[0m:\u001b[36m28\u001b[0m - \u001b[1msimulation: logging_policy_name='pi_4', n_rounds=21000\u001b[0m\n",
      "\u001b[32m2024-12-24 17:30:10.093\u001b[0m | \u001b[1mINFO    \u001b[0m | \u001b[36m__main__\u001b[0m:\u001b[36mrun_multiple_simulations\u001b[0m:\u001b[36m28\u001b[0m - \u001b[1msimulation: logging_policy_name='pi_4', n_rounds=22000\u001b[0m\n",
      "\u001b[32m2024-12-24 17:30:10.584\u001b[0m | \u001b[1mINFO    \u001b[0m | \u001b[36m__main__\u001b[0m:\u001b[36mrun_multiple_simulations\u001b[0m:\u001b[36m28\u001b[0m - \u001b[1msimulation: logging_policy_name='pi_4', n_rounds=23000\u001b[0m\n",
      "\u001b[32m2024-12-24 17:30:11.173\u001b[0m | \u001b[1mINFO    \u001b[0m | \u001b[36m__main__\u001b[0m:\u001b[36mrun_multiple_simulations\u001b[0m:\u001b[36m28\u001b[0m - \u001b[1msimulation: logging_policy_name='pi_4', n_rounds=24000\u001b[0m\n",
      "\u001b[32m2024-12-24 17:30:11.711\u001b[0m | \u001b[1mINFO    \u001b[0m | \u001b[36m__main__\u001b[0m:\u001b[36mrun_multiple_simulations\u001b[0m:\u001b[36m28\u001b[0m - \u001b[1msimulation: logging_policy_name='pi_4', n_rounds=25000\u001b[0m\n",
      "\u001b[32m2024-12-24 17:30:12.421\u001b[0m | \u001b[1mINFO    \u001b[0m | \u001b[36m__main__\u001b[0m:\u001b[36mrun_multiple_simulations\u001b[0m:\u001b[36m28\u001b[0m - \u001b[1msimulation: logging_policy_name='pi_4', n_rounds=26000\u001b[0m\n",
      "\u001b[32m2024-12-24 17:30:13.038\u001b[0m | \u001b[1mINFO    \u001b[0m | \u001b[36m__main__\u001b[0m:\u001b[36mrun_multiple_simulations\u001b[0m:\u001b[36m28\u001b[0m - \u001b[1msimulation: logging_policy_name='pi_4', n_rounds=27000\u001b[0m\n",
      "\u001b[32m2024-12-24 17:30:13.578\u001b[0m | \u001b[1mINFO    \u001b[0m | \u001b[36m__main__\u001b[0m:\u001b[36mrun_multiple_simulations\u001b[0m:\u001b[36m28\u001b[0m - \u001b[1msimulation: logging_policy_name='pi_4', n_rounds=28000\u001b[0m\n",
      "\u001b[32m2024-12-24 17:30:14.223\u001b[0m | \u001b[1mINFO    \u001b[0m | \u001b[36m__main__\u001b[0m:\u001b[36mrun_multiple_simulations\u001b[0m:\u001b[36m28\u001b[0m - \u001b[1msimulation: logging_policy_name='pi_4', n_rounds=29000\u001b[0m\n",
      "\u001b[32m2024-12-24 17:30:14.971\u001b[0m | \u001b[1mINFO    \u001b[0m | \u001b[36m__main__\u001b[0m:\u001b[36mrun_multiple_simulations\u001b[0m:\u001b[36m28\u001b[0m - \u001b[1msimulation: logging_policy_name='pi_4', n_rounds=30000\u001b[0m\n",
      "\u001b[32m2024-12-24 17:30:15.563\u001b[0m | \u001b[1mINFO    \u001b[0m | \u001b[36m__main__\u001b[0m:\u001b[36mrun_multiple_simulations\u001b[0m:\u001b[36m28\u001b[0m - \u001b[1msimulation: logging_policy_name='pi_4', n_rounds=31000\u001b[0m\n",
      "\u001b[32m2024-12-24 17:30:16.114\u001b[0m | \u001b[1mINFO    \u001b[0m | \u001b[36m__main__\u001b[0m:\u001b[36mrun_multiple_simulations\u001b[0m:\u001b[36m28\u001b[0m - \u001b[1msimulation: logging_policy_name='pi_4', n_rounds=32000\u001b[0m\n",
      "\u001b[32m2024-12-24 17:30:16.862\u001b[0m | \u001b[1mINFO    \u001b[0m | \u001b[36m__main__\u001b[0m:\u001b[36mrun_multiple_simulations\u001b[0m:\u001b[36m28\u001b[0m - \u001b[1msimulation: logging_policy_name='pi_4', n_rounds=33000\u001b[0m\n",
      "\u001b[32m2024-12-24 17:30:17.639\u001b[0m | \u001b[1mINFO    \u001b[0m | \u001b[36m__main__\u001b[0m:\u001b[36mrun_multiple_simulations\u001b[0m:\u001b[36m28\u001b[0m - \u001b[1msimulation: logging_policy_name='pi_4', n_rounds=34000\u001b[0m\n",
      "\u001b[32m2024-12-24 17:30:18.511\u001b[0m | \u001b[1mINFO    \u001b[0m | \u001b[36m__main__\u001b[0m:\u001b[36mrun_multiple_simulations\u001b[0m:\u001b[36m28\u001b[0m - \u001b[1msimulation: logging_policy_name='pi_4', n_rounds=35000\u001b[0m\n",
      "\u001b[32m2024-12-24 17:30:19.210\u001b[0m | \u001b[1mINFO    \u001b[0m | \u001b[36m__main__\u001b[0m:\u001b[36mrun_multiple_simulations\u001b[0m:\u001b[36m28\u001b[0m - \u001b[1msimulation: logging_policy_name='pi_4', n_rounds=36000\u001b[0m\n",
      "\u001b[32m2024-12-24 17:30:20.516\u001b[0m | \u001b[1mINFO    \u001b[0m | \u001b[36m__main__\u001b[0m:\u001b[36mrun_multiple_simulations\u001b[0m:\u001b[36m28\u001b[0m - \u001b[1msimulation: logging_policy_name='pi_4', n_rounds=37000\u001b[0m\n",
      "\u001b[32m2024-12-24 17:30:21.337\u001b[0m | \u001b[1mINFO    \u001b[0m | \u001b[36m__main__\u001b[0m:\u001b[36mrun_multiple_simulations\u001b[0m:\u001b[36m28\u001b[0m - \u001b[1msimulation: logging_policy_name='pi_4', n_rounds=38000\u001b[0m\n",
      "\u001b[32m2024-12-24 17:30:22.208\u001b[0m | \u001b[1mINFO    \u001b[0m | \u001b[36m__main__\u001b[0m:\u001b[36mrun_multiple_simulations\u001b[0m:\u001b[36m28\u001b[0m - \u001b[1msimulation: logging_policy_name='pi_4', n_rounds=39000\u001b[0m\n",
      "\u001b[32m2024-12-24 17:30:23.138\u001b[0m | \u001b[1mINFO    \u001b[0m | \u001b[36m__main__\u001b[0m:\u001b[36mrun_multiple_simulations\u001b[0m:\u001b[36m28\u001b[0m - \u001b[1msimulation: logging_policy_name='pi_4', n_rounds=40000\u001b[0m\n",
      "\u001b[32m2024-12-24 17:30:24.566\u001b[0m | \u001b[1mINFO    \u001b[0m | \u001b[36m__main__\u001b[0m:\u001b[36mrun_multiple_simulations\u001b[0m:\u001b[36m28\u001b[0m - \u001b[1msimulation: logging_policy_name='pi_4', n_rounds=41000\u001b[0m\n",
      "\u001b[32m2024-12-24 17:30:25.744\u001b[0m | \u001b[1mINFO    \u001b[0m | \u001b[36m__main__\u001b[0m:\u001b[36mrun_multiple_simulations\u001b[0m:\u001b[36m28\u001b[0m - \u001b[1msimulation: logging_policy_name='pi_4', n_rounds=42000\u001b[0m\n",
      "\u001b[32m2024-12-24 17:30:26.847\u001b[0m | \u001b[1mINFO    \u001b[0m | \u001b[36m__main__\u001b[0m:\u001b[36mrun_multiple_simulations\u001b[0m:\u001b[36m28\u001b[0m - \u001b[1msimulation: logging_policy_name='pi_4', n_rounds=43000\u001b[0m\n",
      "\u001b[32m2024-12-24 17:30:27.742\u001b[0m | \u001b[1mINFO    \u001b[0m | \u001b[36m__main__\u001b[0m:\u001b[36mrun_multiple_simulations\u001b[0m:\u001b[36m28\u001b[0m - \u001b[1msimulation: logging_policy_name='pi_4', n_rounds=44000\u001b[0m\n",
      "\u001b[32m2024-12-24 17:30:29.318\u001b[0m | \u001b[1mINFO    \u001b[0m | \u001b[36m__main__\u001b[0m:\u001b[36mrun_multiple_simulations\u001b[0m:\u001b[36m28\u001b[0m - \u001b[1msimulation: logging_policy_name='pi_4', n_rounds=45000\u001b[0m\n",
      "\u001b[32m2024-12-24 17:30:30.222\u001b[0m | \u001b[1mINFO    \u001b[0m | \u001b[36m__main__\u001b[0m:\u001b[36mrun_multiple_simulations\u001b[0m:\u001b[36m28\u001b[0m - \u001b[1msimulation: logging_policy_name='pi_4', n_rounds=46000\u001b[0m\n",
      "\u001b[32m2024-12-24 17:30:31.429\u001b[0m | \u001b[1mINFO    \u001b[0m | \u001b[36m__main__\u001b[0m:\u001b[36mrun_multiple_simulations\u001b[0m:\u001b[36m28\u001b[0m - \u001b[1msimulation: logging_policy_name='pi_4', n_rounds=47000\u001b[0m\n",
      "\u001b[32m2024-12-24 17:30:32.302\u001b[0m | \u001b[1mINFO    \u001b[0m | \u001b[36m__main__\u001b[0m:\u001b[36mrun_multiple_simulations\u001b[0m:\u001b[36m28\u001b[0m - \u001b[1msimulation: logging_policy_name='pi_4', n_rounds=48000\u001b[0m\n",
      "\u001b[32m2024-12-24 17:30:33.539\u001b[0m | \u001b[1mINFO    \u001b[0m | \u001b[36m__main__\u001b[0m:\u001b[36mrun_multiple_simulations\u001b[0m:\u001b[36m28\u001b[0m - \u001b[1msimulation: logging_policy_name='pi_4', n_rounds=49000\u001b[0m\n",
      "\u001b[32m2024-12-24 17:30:34.593\u001b[0m | \u001b[1mINFO    \u001b[0m | \u001b[36m__main__\u001b[0m:\u001b[36mrun_multiple_simulations\u001b[0m:\u001b[36m28\u001b[0m - \u001b[1msimulation: logging_policy_name='pi_5', n_rounds=1000\u001b[0m\n",
      "\u001b[32m2024-12-24 17:30:34.663\u001b[0m | \u001b[1mINFO    \u001b[0m | \u001b[36m__main__\u001b[0m:\u001b[36mrun_multiple_simulations\u001b[0m:\u001b[36m28\u001b[0m - \u001b[1msimulation: logging_policy_name='pi_5', n_rounds=2000\u001b[0m\n",
      "\u001b[32m2024-12-24 17:30:34.698\u001b[0m | \u001b[1mINFO    \u001b[0m | \u001b[36m__main__\u001b[0m:\u001b[36mrun_multiple_simulations\u001b[0m:\u001b[36m28\u001b[0m - \u001b[1msimulation: logging_policy_name='pi_5', n_rounds=3000\u001b[0m\n",
      "\u001b[32m2024-12-24 17:30:34.744\u001b[0m | \u001b[1mINFO    \u001b[0m | \u001b[36m__main__\u001b[0m:\u001b[36mrun_multiple_simulations\u001b[0m:\u001b[36m28\u001b[0m - \u001b[1msimulation: logging_policy_name='pi_5', n_rounds=4000\u001b[0m\n",
      "\u001b[32m2024-12-24 17:30:34.836\u001b[0m | \u001b[1mINFO    \u001b[0m | \u001b[36m__main__\u001b[0m:\u001b[36mrun_multiple_simulations\u001b[0m:\u001b[36m28\u001b[0m - \u001b[1msimulation: logging_policy_name='pi_5', n_rounds=5000\u001b[0m\n",
      "\u001b[32m2024-12-24 17:30:34.907\u001b[0m | \u001b[1mINFO    \u001b[0m | \u001b[36m__main__\u001b[0m:\u001b[36mrun_multiple_simulations\u001b[0m:\u001b[36m28\u001b[0m - \u001b[1msimulation: logging_policy_name='pi_5', n_rounds=6000\u001b[0m\n",
      "\u001b[32m2024-12-24 17:30:34.991\u001b[0m | \u001b[1mINFO    \u001b[0m | \u001b[36m__main__\u001b[0m:\u001b[36mrun_multiple_simulations\u001b[0m:\u001b[36m28\u001b[0m - \u001b[1msimulation: logging_policy_name='pi_5', n_rounds=7000\u001b[0m\n",
      "\u001b[32m2024-12-24 17:30:35.105\u001b[0m | \u001b[1mINFO    \u001b[0m | \u001b[36m__main__\u001b[0m:\u001b[36mrun_multiple_simulations\u001b[0m:\u001b[36m28\u001b[0m - \u001b[1msimulation: logging_policy_name='pi_5', n_rounds=8000\u001b[0m\n",
      "\u001b[32m2024-12-24 17:30:35.187\u001b[0m | \u001b[1mINFO    \u001b[0m | \u001b[36m__main__\u001b[0m:\u001b[36mrun_multiple_simulations\u001b[0m:\u001b[36m28\u001b[0m - \u001b[1msimulation: logging_policy_name='pi_5', n_rounds=9000\u001b[0m\n",
      "\u001b[32m2024-12-24 17:30:35.322\u001b[0m | \u001b[1mINFO    \u001b[0m | \u001b[36m__main__\u001b[0m:\u001b[36mrun_multiple_simulations\u001b[0m:\u001b[36m28\u001b[0m - \u001b[1msimulation: logging_policy_name='pi_5', n_rounds=10000\u001b[0m\n",
      "\u001b[32m2024-12-24 17:30:35.477\u001b[0m | \u001b[1mINFO    \u001b[0m | \u001b[36m__main__\u001b[0m:\u001b[36mrun_multiple_simulations\u001b[0m:\u001b[36m28\u001b[0m - \u001b[1msimulation: logging_policy_name='pi_5', n_rounds=11000\u001b[0m\n",
      "\u001b[32m2024-12-24 17:30:35.632\u001b[0m | \u001b[1mINFO    \u001b[0m | \u001b[36m__main__\u001b[0m:\u001b[36mrun_multiple_simulations\u001b[0m:\u001b[36m28\u001b[0m - \u001b[1msimulation: logging_policy_name='pi_5', n_rounds=12000\u001b[0m\n",
      "\u001b[32m2024-12-24 17:30:35.772\u001b[0m | \u001b[1mINFO    \u001b[0m | \u001b[36m__main__\u001b[0m:\u001b[36mrun_multiple_simulations\u001b[0m:\u001b[36m28\u001b[0m - \u001b[1msimulation: logging_policy_name='pi_5', n_rounds=13000\u001b[0m\n",
      "\u001b[32m2024-12-24 17:30:35.886\u001b[0m | \u001b[1mINFO    \u001b[0m | \u001b[36m__main__\u001b[0m:\u001b[36mrun_multiple_simulations\u001b[0m:\u001b[36m28\u001b[0m - \u001b[1msimulation: logging_policy_name='pi_5', n_rounds=14000\u001b[0m\n",
      "\u001b[32m2024-12-24 17:30:36.048\u001b[0m | \u001b[1mINFO    \u001b[0m | \u001b[36m__main__\u001b[0m:\u001b[36mrun_multiple_simulations\u001b[0m:\u001b[36m28\u001b[0m - \u001b[1msimulation: logging_policy_name='pi_5', n_rounds=15000\u001b[0m\n",
      "\u001b[32m2024-12-24 17:30:36.187\u001b[0m | \u001b[1mINFO    \u001b[0m | \u001b[36m__main__\u001b[0m:\u001b[36mrun_multiple_simulations\u001b[0m:\u001b[36m28\u001b[0m - \u001b[1msimulation: logging_policy_name='pi_5', n_rounds=16000\u001b[0m\n",
      "\u001b[32m2024-12-24 17:30:36.367\u001b[0m | \u001b[1mINFO    \u001b[0m | \u001b[36m__main__\u001b[0m:\u001b[36mrun_multiple_simulations\u001b[0m:\u001b[36m28\u001b[0m - \u001b[1msimulation: logging_policy_name='pi_5', n_rounds=17000\u001b[0m\n",
      "\u001b[32m2024-12-24 17:30:36.483\u001b[0m | \u001b[1mINFO    \u001b[0m | \u001b[36m__main__\u001b[0m:\u001b[36mrun_multiple_simulations\u001b[0m:\u001b[36m28\u001b[0m - \u001b[1msimulation: logging_policy_name='pi_5', n_rounds=18000\u001b[0m\n",
      "\u001b[32m2024-12-24 17:30:36.672\u001b[0m | \u001b[1mINFO    \u001b[0m | \u001b[36m__main__\u001b[0m:\u001b[36mrun_multiple_simulations\u001b[0m:\u001b[36m28\u001b[0m - \u001b[1msimulation: logging_policy_name='pi_5', n_rounds=19000\u001b[0m\n",
      "\u001b[32m2024-12-24 17:30:36.800\u001b[0m | \u001b[1mINFO    \u001b[0m | \u001b[36m__main__\u001b[0m:\u001b[36mrun_multiple_simulations\u001b[0m:\u001b[36m28\u001b[0m - \u001b[1msimulation: logging_policy_name='pi_5', n_rounds=20000\u001b[0m\n",
      "\u001b[32m2024-12-24 17:30:37.006\u001b[0m | \u001b[1mINFO    \u001b[0m | \u001b[36m__main__\u001b[0m:\u001b[36mrun_multiple_simulations\u001b[0m:\u001b[36m28\u001b[0m - \u001b[1msimulation: logging_policy_name='pi_5', n_rounds=21000\u001b[0m\n",
      "\u001b[32m2024-12-24 17:30:37.161\u001b[0m | \u001b[1mINFO    \u001b[0m | \u001b[36m__main__\u001b[0m:\u001b[36mrun_multiple_simulations\u001b[0m:\u001b[36m28\u001b[0m - \u001b[1msimulation: logging_policy_name='pi_5', n_rounds=22000\u001b[0m\n",
      "\u001b[32m2024-12-24 17:30:37.296\u001b[0m | \u001b[1mINFO    \u001b[0m | \u001b[36m__main__\u001b[0m:\u001b[36mrun_multiple_simulations\u001b[0m:\u001b[36m28\u001b[0m - \u001b[1msimulation: logging_policy_name='pi_5', n_rounds=23000\u001b[0m\n",
      "\u001b[32m2024-12-24 17:30:37.460\u001b[0m | \u001b[1mINFO    \u001b[0m | \u001b[36m__main__\u001b[0m:\u001b[36mrun_multiple_simulations\u001b[0m:\u001b[36m28\u001b[0m - \u001b[1msimulation: logging_policy_name='pi_5', n_rounds=24000\u001b[0m\n",
      "\u001b[32m2024-12-24 17:30:37.595\u001b[0m | \u001b[1mINFO    \u001b[0m | \u001b[36m__main__\u001b[0m:\u001b[36mrun_multiple_simulations\u001b[0m:\u001b[36m28\u001b[0m - \u001b[1msimulation: logging_policy_name='pi_5', n_rounds=25000\u001b[0m\n",
      "\u001b[32m2024-12-24 17:30:37.765\u001b[0m | \u001b[1mINFO    \u001b[0m | \u001b[36m__main__\u001b[0m:\u001b[36mrun_multiple_simulations\u001b[0m:\u001b[36m28\u001b[0m - \u001b[1msimulation: logging_policy_name='pi_5', n_rounds=26000\u001b[0m\n",
      "\u001b[32m2024-12-24 17:30:37.935\u001b[0m | \u001b[1mINFO    \u001b[0m | \u001b[36m__main__\u001b[0m:\u001b[36mrun_multiple_simulations\u001b[0m:\u001b[36m28\u001b[0m - \u001b[1msimulation: logging_policy_name='pi_5', n_rounds=27000\u001b[0m\n",
      "\u001b[32m2024-12-24 17:30:38.087\u001b[0m | \u001b[1mINFO    \u001b[0m | \u001b[36m__main__\u001b[0m:\u001b[36mrun_multiple_simulations\u001b[0m:\u001b[36m28\u001b[0m - \u001b[1msimulation: logging_policy_name='pi_5', n_rounds=28000\u001b[0m\n",
      "\u001b[32m2024-12-24 17:30:38.293\u001b[0m | \u001b[1mINFO    \u001b[0m | \u001b[36m__main__\u001b[0m:\u001b[36mrun_multiple_simulations\u001b[0m:\u001b[36m28\u001b[0m - \u001b[1msimulation: logging_policy_name='pi_5', n_rounds=29000\u001b[0m\n",
      "\u001b[32m2024-12-24 17:30:38.449\u001b[0m | \u001b[1mINFO    \u001b[0m | \u001b[36m__main__\u001b[0m:\u001b[36mrun_multiple_simulations\u001b[0m:\u001b[36m28\u001b[0m - \u001b[1msimulation: logging_policy_name='pi_5', n_rounds=30000\u001b[0m\n",
      "\u001b[32m2024-12-24 17:30:38.637\u001b[0m | \u001b[1mINFO    \u001b[0m | \u001b[36m__main__\u001b[0m:\u001b[36mrun_multiple_simulations\u001b[0m:\u001b[36m28\u001b[0m - \u001b[1msimulation: logging_policy_name='pi_5', n_rounds=31000\u001b[0m\n",
      "\u001b[32m2024-12-24 17:30:38.830\u001b[0m | \u001b[1mINFO    \u001b[0m | \u001b[36m__main__\u001b[0m:\u001b[36mrun_multiple_simulations\u001b[0m:\u001b[36m28\u001b[0m - \u001b[1msimulation: logging_policy_name='pi_5', n_rounds=32000\u001b[0m\n",
      "\u001b[32m2024-12-24 17:30:38.985\u001b[0m | \u001b[1mINFO    \u001b[0m | \u001b[36m__main__\u001b[0m:\u001b[36mrun_multiple_simulations\u001b[0m:\u001b[36m28\u001b[0m - \u001b[1msimulation: logging_policy_name='pi_5', n_rounds=33000\u001b[0m\n",
      "\u001b[32m2024-12-24 17:30:39.187\u001b[0m | \u001b[1mINFO    \u001b[0m | \u001b[36m__main__\u001b[0m:\u001b[36mrun_multiple_simulations\u001b[0m:\u001b[36m28\u001b[0m - \u001b[1msimulation: logging_policy_name='pi_5', n_rounds=34000\u001b[0m\n",
      "\u001b[32m2024-12-24 17:30:39.410\u001b[0m | \u001b[1mINFO    \u001b[0m | \u001b[36m__main__\u001b[0m:\u001b[36mrun_multiple_simulations\u001b[0m:\u001b[36m28\u001b[0m - \u001b[1msimulation: logging_policy_name='pi_5', n_rounds=35000\u001b[0m\n",
      "\u001b[32m2024-12-24 17:30:39.636\u001b[0m | \u001b[1mINFO    \u001b[0m | \u001b[36m__main__\u001b[0m:\u001b[36mrun_multiple_simulations\u001b[0m:\u001b[36m28\u001b[0m - \u001b[1msimulation: logging_policy_name='pi_5', n_rounds=36000\u001b[0m\n",
      "\u001b[32m2024-12-24 17:30:39.834\u001b[0m | \u001b[1mINFO    \u001b[0m | \u001b[36m__main__\u001b[0m:\u001b[36mrun_multiple_simulations\u001b[0m:\u001b[36m28\u001b[0m - \u001b[1msimulation: logging_policy_name='pi_5', n_rounds=37000\u001b[0m\n",
      "\u001b[32m2024-12-24 17:30:40.067\u001b[0m | \u001b[1mINFO    \u001b[0m | \u001b[36m__main__\u001b[0m:\u001b[36mrun_multiple_simulations\u001b[0m:\u001b[36m28\u001b[0m - \u001b[1msimulation: logging_policy_name='pi_5', n_rounds=38000\u001b[0m\n",
      "\u001b[32m2024-12-24 17:30:40.333\u001b[0m | \u001b[1mINFO    \u001b[0m | \u001b[36m__main__\u001b[0m:\u001b[36mrun_multiple_simulations\u001b[0m:\u001b[36m28\u001b[0m - \u001b[1msimulation: logging_policy_name='pi_5', n_rounds=39000\u001b[0m\n",
      "\u001b[32m2024-12-24 17:30:40.547\u001b[0m | \u001b[1mINFO    \u001b[0m | \u001b[36m__main__\u001b[0m:\u001b[36mrun_multiple_simulations\u001b[0m:\u001b[36m28\u001b[0m - \u001b[1msimulation: logging_policy_name='pi_5', n_rounds=40000\u001b[0m\n",
      "\u001b[32m2024-12-24 17:30:40.762\u001b[0m | \u001b[1mINFO    \u001b[0m | \u001b[36m__main__\u001b[0m:\u001b[36mrun_multiple_simulations\u001b[0m:\u001b[36m28\u001b[0m - \u001b[1msimulation: logging_policy_name='pi_5', n_rounds=41000\u001b[0m\n",
      "\u001b[32m2024-12-24 17:30:40.973\u001b[0m | \u001b[1mINFO    \u001b[0m | \u001b[36m__main__\u001b[0m:\u001b[36mrun_multiple_simulations\u001b[0m:\u001b[36m28\u001b[0m - \u001b[1msimulation: logging_policy_name='pi_5', n_rounds=42000\u001b[0m\n",
      "\u001b[32m2024-12-24 17:30:41.191\u001b[0m | \u001b[1mINFO    \u001b[0m | \u001b[36m__main__\u001b[0m:\u001b[36mrun_multiple_simulations\u001b[0m:\u001b[36m28\u001b[0m - \u001b[1msimulation: logging_policy_name='pi_5', n_rounds=43000\u001b[0m\n",
      "\u001b[32m2024-12-24 17:30:41.444\u001b[0m | \u001b[1mINFO    \u001b[0m | \u001b[36m__main__\u001b[0m:\u001b[36mrun_multiple_simulations\u001b[0m:\u001b[36m28\u001b[0m - \u001b[1msimulation: logging_policy_name='pi_5', n_rounds=44000\u001b[0m\n",
      "\u001b[32m2024-12-24 17:30:41.708\u001b[0m | \u001b[1mINFO    \u001b[0m | \u001b[36m__main__\u001b[0m:\u001b[36mrun_multiple_simulations\u001b[0m:\u001b[36m28\u001b[0m - \u001b[1msimulation: logging_policy_name='pi_5', n_rounds=45000\u001b[0m\n",
      "\u001b[32m2024-12-24 17:30:41.967\u001b[0m | \u001b[1mINFO    \u001b[0m | \u001b[36m__main__\u001b[0m:\u001b[36mrun_multiple_simulations\u001b[0m:\u001b[36m28\u001b[0m - \u001b[1msimulation: logging_policy_name='pi_5', n_rounds=46000\u001b[0m\n",
      "\u001b[32m2024-12-24 17:30:42.191\u001b[0m | \u001b[1mINFO    \u001b[0m | \u001b[36m__main__\u001b[0m:\u001b[36mrun_multiple_simulations\u001b[0m:\u001b[36m28\u001b[0m - \u001b[1msimulation: logging_policy_name='pi_5', n_rounds=47000\u001b[0m\n",
      "\u001b[32m2024-12-24 17:30:42.495\u001b[0m | \u001b[1mINFO    \u001b[0m | \u001b[36m__main__\u001b[0m:\u001b[36mrun_multiple_simulations\u001b[0m:\u001b[36m28\u001b[0m - \u001b[1msimulation: logging_policy_name='pi_5', n_rounds=48000\u001b[0m\n",
      "\u001b[32m2024-12-24 17:30:42.789\u001b[0m | \u001b[1mINFO    \u001b[0m | \u001b[36m__main__\u001b[0m:\u001b[36mrun_multiple_simulations\u001b[0m:\u001b[36m28\u001b[0m - \u001b[1msimulation: logging_policy_name='pi_5', n_rounds=49000\u001b[0m\n"
     ]
    },
    {
     "name": "stdout",
     "output_type": "stream",
     "text": [
      "shape: (196, 3)\n",
      "┌─────────────────────┬──────────┬───────────────────────────┐\n",
      "│ logging_policy_name ┆ n_rounds ┆ trained_policy_true_value │\n",
      "│ ---                 ┆ ---      ┆ ---                       │\n",
      "│ str                 ┆ i64      ┆ f64                       │\n",
      "╞═════════════════════╪══════════╪═══════════════════════════╡\n",
      "│ pi_2                ┆ 1000     ┆ 0.496                     │\n",
      "│ pi_2                ┆ 2000     ┆ 0.492                     │\n",
      "│ pi_2                ┆ 3000     ┆ 0.5                       │\n",
      "│ pi_2                ┆ 4000     ┆ 0.499                     │\n",
      "│ pi_2                ┆ 5000     ┆ 0.5                       │\n",
      "│ …                   ┆ …        ┆ …                         │\n",
      "│ pi_5                ┆ 45000    ┆ 0.737                     │\n",
      "│ pi_5                ┆ 46000    ┆ 0.746                     │\n",
      "│ pi_5                ┆ 47000    ┆ 0.736                     │\n",
      "│ pi_5                ┆ 48000    ┆ 0.738                     │\n",
      "│ pi_5                ┆ 49000    ┆ 0.742                     │\n",
      "└─────────────────────┴──────────┴───────────────────────────┘\n"
     ]
    }
   ],
   "source": [
    "import itertools\n",
    "\n",
    "from loguru import logger\n",
    "from pandera.polars import DataFrameSchema\n",
    "from pandera.typing.polars import DataFrame\n",
    "\n",
    "\n",
    "class SimulationResult(DataFrameSchema):\n",
    "    logging_policy_name: str\n",
    "    n_rounds: int\n",
    "    trained_policy_true_value: float\n",
    "\n",
    "\n",
    "# 5つの推薦方策について、データ収集方策と評価方策の組み合わせを作って、シミュレーションを実行する\n",
    "\n",
    "\n",
    "# シミュレーションの設定\n",
    "def run_multiple_simulations(\n",
    "    policy_map: dict[str, Callable[[np.ndarray, np.ndarray, int], np.ndarray]],\n",
    "    n_rounds_list: list[int] = [50, 100, 200, 300, 400, 500, 1000, 10000],\n",
    "    n_actions: int = 4,\n",
    "    dim_context: int = 3,\n",
    "    action_context: np.ndarray = np.random.random((n_actions, dim_context)),\n",
    ") -> DataFrame[SimulationResult]:\n",
    "    results = []\n",
    "    for logging_policy_name in policy_map.keys():\n",
    "        for n_rounds in n_rounds_list:\n",
    "            logger.info(f\"simulation: {logging_policy_name=}, {n_rounds=}\")\n",
    "            # データ収集方策と評価方策を指定して、シミュレーションを実行\n",
    "            result_dict = run_single_opl_simulation(\n",
    "                simulate_idx=0,\n",
    "                n_rounds=n_rounds,\n",
    "                n_actions=n_actions,\n",
    "                dim_context=dim_context,\n",
    "                action_context=action_context,\n",
    "                reward_function=expected_reward_function,\n",
    "                logging_policy_function=policy_wrapper(\n",
    "                    policy_map[logging_policy_name], mode=\"logging_policy\"\n",
    "                ),\n",
    "            )\n",
    "            results.append(\n",
    "                {\n",
    "                    \"logging_policy_name\": logging_policy_name,\n",
    "                    \"n_rounds\": n_rounds,\n",
    "                    \"trained_policy_true_value\": result_dict[\n",
    "                        \"ground_truth_policy_value\"\n",
    "                    ],\n",
    "                }\n",
    "            )\n",
    "    return pl.DataFrame(results)\n",
    "\n",
    "\n",
    "logging_policy_map = {\n",
    "    # \"pi_1\": pi_1, # 一種類しか正解ラベルがないとエラーになってしまうのでコメントアウト\n",
    "    \"pi_2\": pi_2,\n",
    "    \"pi_3\": pi_3,\n",
    "    \"pi_4\": pi_4,\n",
    "    \"pi_5\": pi_5,\n",
    "}\n",
    "result_df = run_multiple_simulations(\n",
    "    logging_policy_map,\n",
    "    n_rounds_list=list(range(1000, 50000, 1000)),\n",
    "    n_actions=4,\n",
    "    dim_context=20,\n",
    "    action_context=np.random.random((4, 20)),\n",
    ")\n",
    "\n",
    "rounded_opl_result_df = result_df.with_columns(\n",
    "    result_df[\"trained_policy_true_value\"].round(3),\n",
    ")\n",
    "print(rounded_opl_result_df)\n",
    "\n",
    "rounded_opl_result_df.write_csv(\"result_opl.csv\")"
   ]
  },
  {
   "cell_type": "code",
   "execution_count": 50,
   "metadata": {},
   "outputs": [
    {
     "data": {
      "image/png": "[encoded data removed]",
      "text/plain": [
       "<Figure size 1000x600 with 1 Axes>"
      ]
     },
     "metadata": {},
     "output_type": "display_data"
    }
   ],
   "source": [
    "import seaborn as sns\n",
    "\n",
    "# 横軸 n_rounds, 縦軸 真の性能 のグラフを描画\n",
    "# グラフの描画\n",
    "plt.figure(figsize=(10, 6))\n",
    "sns.lineplot(\n",
    "    data=rounded_opl_result_df.to_pandas(),\n",
    "    x=\"n_rounds\",\n",
    "    y=\"trained_policy_true_value\",\n",
    "    hue=\"logging_policy_name\",\n",
    "    marker=\"o\",\n",
    ")\n",
    "# plt.xscale(\"log\")\n",
    "plt.xlabel(\"n_rounds\")\n",
    "plt.ylabel(\"trained_policy_true_value\")\n",
    "plt.title(\"trained_policy_true_value vs n_rounds\")\n",
    "plt.legend(title=\"logging_policy_name\")\n",
    "plt.show()"
   ]
  },
  {
   "cell_type": "code",
   "execution_count": null,
   "metadata": {},
   "outputs": [],
   "source": []
  }
 ],
 "metadata": {
  "kernelspec": {
   "display_name": "recommender-experiments-_FVBVT8O-py3.10",
   "language": "python",
   "name": "python3"
  },
  "language_info": {
   "codemirror_mode": {
    "name": "ipython",
    "version": 3
   },
   "file_extension": ".py",
   "mimetype": "text/x-python",
   "name": "python",
   "nbconvert_exporter": "python",
   "pygments_lexer": "ipython3",
   "version": "3.10.15"
  }
 },
 "nbformat": 4,
 "nbformat_minor": 2
}
